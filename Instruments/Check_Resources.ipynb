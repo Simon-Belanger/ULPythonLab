{
 "cells": [
  {
   "cell_type": "code",
   "execution_count": 3,
   "metadata": {
    "collapsed": false
   },
   "outputs": [
    {
     "name": "stdout",
     "output_type": "stream",
     "text": [
      "TCPIP0::A-PCSERNO-25534::hislip0::INSTR\n",
      "KEYSIGHT TECHNOLOGIES,DSOX93204A,MY51260102,05.50.0035\n",
      "\n",
      "TCPIP0::A-PCSERNO-25534::inst0::INSTR\n",
      "KEYSIGHT TECHNOLOGIES,DSOX93204A,MY51260102,05.50.0035\n",
      "\n",
      "ASRL1::INSTR\n",
      "Name not found\n",
      "\n",
      "ASRL3::INSTR\n",
      "Name not found\n",
      "\n",
      "ASRL10::INSTR\n",
      "Name not found\n",
      "\n",
      "ASRL22::INSTR\n",
      "Name not found\n",
      "\n",
      "GPIB0::20::INSTR\n",
      "HEWLETT-PACKARD,HP8164A,DE38701508,V4.50(24035)\n",
      "\n",
      "GPIB0::25::INSTR\n",
      "Keithley Instruments Inc., Model 2612B, 4308273, 3.2.2\n",
      "\n"
     ]
    }
   ],
   "source": [
    "import visa\n",
    "\n",
    "rm = visa.ResourceManager()\n",
    "\n",
    "\n",
    "for i in rm.list_resources():\n",
    "    try:\n",
    "        x = rm.open_resource(i)\n",
    "        print(i + \"\\n\" + x.query('*IDN?'))\n",
    "    except visa.VisaIOError:\n",
    "        print(i + \"\\n\" + \"Name not found\"+ \"\\n\")"
   ]
  },
  {
   "cell_type": "code",
   "execution_count": null,
   "metadata": {
    "collapsed": true
   },
   "outputs": [],
   "source": []
  }
 ],
 "metadata": {
  "kernelspec": {
   "display_name": "Python 2",
   "language": "python",
   "name": "python2"
  },
  "language_info": {
   "codemirror_mode": {
    "name": "ipython",
    "version": 2
   },
   "file_extension": ".py",
   "mimetype": "text/x-python",
   "name": "python",
   "nbconvert_exporter": "python",
   "pygments_lexer": "ipython2",
   "version": "2.7.11"
  }
 },
 "nbformat": 4,
 "nbformat_minor": 2
}
