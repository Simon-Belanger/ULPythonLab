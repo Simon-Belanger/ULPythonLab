{
 "cells": [
  {
   "cell_type": "markdown",
   "metadata": {},
   "source": [
    "## Testing the PIN Variable Optical Attenuators"
   ]
  },
  {
   "cell_type": "markdown",
   "metadata": {},
   "source": [
    "### 1 ) Perform a wavelength sweep and save the data as a sweep object\n",
    "\n",
    "objective : make a function that can be used to do wavelength sweeps with the agilent Lightwave measurement System. \n",
    "\n",
    "Note : The driver for this instrument **hp816x_32.dll** only works with 32 bits anaconda (on python 2 for whatever reason).\n",
    "Note2 : If Error 0 : no error, the laser power needs to be set to -10 dBm."
   ]
  },
  {
   "cell_type": "code",
   "execution_count": 32,
   "metadata": {
    "collapsed": false,
    "scrolled": true
   },
   "outputs": [],
   "source": [
    "from Instruments import hp816x_instr\n",
    "from data.sweepobj import sweepobj\n",
    "from data.wvlsweep import wvlsweep\n",
    "import os\n",
    "%matplotlib inline"
   ]
  },
  {
   "cell_type": "code",
   "execution_count": 36,
   "metadata": {
    "collapsed": false,
    "scrolled": false
   },
   "outputs": [
    {
     "name": "stdout",
     "output_type": "stream",
     "text": [
      "Disconnected from the laser\n",
      "The mainframe is: HP8164A\n",
      "Connected to the laser\n",
      "Saving wavelength sweep to Z:\\shi_group\\lab\\measures\\SiEPIC_Passives_Workshop_2017\\Simon\\ULPythonLab\\april30_data\\1702PH_193nm_die01\\ ...\n",
      "Total number of datapoints: 4001\n",
      "Stitch number: 1\n",
      "Sweeping from 1530.0 nm to 1570.0 nm\n"
     ]
    },
    {
     "data": {
      "image/png": "[encoded data removed]",
      "text/plain": [
       "<matplotlib.figure.Figure at 0x83f2310>"
      ]
     },
     "metadata": {},
     "output_type": "display_data"
    },
    {
     "name": "stdout",
     "output_type": "stream",
     "text": [
      "Saving the data to Z:\\shi_group\\lab\\measures\\SiEPIC_Passives_Workshop_2017\\Simon\\ULPythonLab\\april30_data\\1702PH_193nm_die01\\Align4 ...\n"
     ]
    }
   ],
   "source": [
    "data_dir = os.getcwd() + \"\\\\april30_data\\\\1702PH_193nm_die01\\\\\"\n",
    "LMS = hp816x_instr.hp816x()\n",
    "LMS.connect('GPIB0::20::INSTR')\n",
    "print(\"Saving wavelength sweep to \" + data_dir + \" ...\")\n",
    "wvlsweep(LMS, data_dir, wvl_start=1530e-9, wvl_stop=1570e-9, wvl_step=0.01e-9, plot_det1 = True, plot_det2 = True, filename=\"Align4\")\n",
    "LMS.setTLSState(\"off\")"
   ]
  },
  {
   "cell_type": "markdown",
   "metadata": {},
   "source": [
    "Try opening the file afterwards."
   ]
  },
  {
   "cell_type": "code",
   "execution_count": null,
   "metadata": {
    "collapsed": false
   },
   "outputs": [],
   "source": [
    "%matplotlib qt\n",
    "data_dir = os.getcwd() + \"\\\\april30_data\\\\1702PH_193nm_die01\\\\\"\n",
    "swobj = sweepobj(data_dir + \"RT3\")\n",
    "swobj.xlims             = [1530, 1570]\n",
    "swobj.ylims             = [-85,-20]\n",
    "swobj.show()"
   ]
  },
  {
   "cell_type": "markdown",
   "metadata": {},
   "source": [
    "It works. It can be used to acquire the data."
   ]
  },
  {
   "cell_type": "markdown",
   "metadata": {},
   "source": [
    "### 2) Perform a voltage sweep for the VOA and measure the wavelength dependant attenuation as well as the voltage and the current applied to the PIN VOA"
   ]
  },
  {
   "cell_type": "markdown",
   "metadata": {},
   "source": [
    "Measure the IV curve of the PIN junction."
   ]
  },
  {
   "cell_type": "code",
   "execution_count": null,
   "metadata": {
    "collapsed": false
   },
   "outputs": [],
   "source": [
    "import datetime\n",
    "\n",
    "#For branch 1 of the VOA\n",
    "\n",
    "# TODO : save the voltage and the current in the sweepobject datafile as an attribute\n",
    "# TODO : Make this a function that can be repeated for the 2 branches of each of the 5 VOAs\n",
    "# TODO : make calibration easy\n",
    "# TODO : perform the measurements for all VOAs and do the results formatting accordingly (V 3dB, Length for v 3dB , ...)\n",
    "# TODO : Format the datafiles into one single file for simplicity (facultative)\n",
    "\n",
    "# INFO\n",
    "#device    = \"VOA1\"\n",
    "#chip      = \"1702PH\"\n",
    "#Litho     = \"248 nm\"\n",
    "#die       = 1\n",
    "#date      = datetime.datetime.now()\n",
    "#VOAlength = 500e-6\n",
    "wvl_start = 1530e-9\n",
    "wvl_stop  = 1570e-9\n",
    "wvl_step  = 0.1e-9\n",
    "\n",
    "# VOA sweep\n",
    "PINVOA_voltage, PINVOA_current = [0.0, 0.5, 1.0, 1.5, 2.0, 2.5, 3.0], []\n",
    "data_dir = os.getcwd() + \"\\\\april30_data\\\\1702PH_193nm_die01\\\\VOA5\\\\waveguide2\\\\\"\n",
    "f = open(data_dir + \"datatable.txt\", \"w+\")\n",
    "f.write(\"V [V]\" + \"     \" + \"I [mA]\\n\")\n",
    "\n",
    "# Tunable laser source\n",
    "LMS = hp816x_instr.hp816x()\n",
    "LMS.connect('GPIB0::20::INSTR')\n",
    "\n",
    "for V in PINVOA_voltage:\n",
    "    raw_input(\"Set the voltage applied to the VOA to \" + str(V) + \" V. Press any key to continue...\")\n",
    "    I = raw_input(\"What is the current measured?\")\n",
    "    f.write(str(V) + \"     \" + str(I) + \"\\n\")\n",
    "    PINVOA_current.append(I)\n",
    "    wvlsweep(LMS, data_dir, wvl_start, wvl_stop, wvl_step, True, True, str(V))\n",
    "    \n",
    "LMS.disconnect()\n",
    "f.close()"
   ]
  },
  {
   "cell_type": "markdown",
   "metadata": {},
   "source": [
    "### Plot the data\n",
    "\n",
    "1) Plot the transmission spectrum of the VOA for the different applied voltage. Change the data_dir variable in order to point to thr right directory."
   ]
  },
  {
   "cell_type": "code",
   "execution_count": null,
   "metadata": {
    "collapsed": false
   },
   "outputs": [],
   "source": [
    "# TODO : Order the plots in ascending voltage or current.\n",
    "\n",
    "# To plot all the data in a single directory (data in pickle files)\n",
    "import matplotlib.pyplot as plt\n",
    "import matplotlib.ticker as ticker\n",
    "%matplotlib inline\n",
    "data_dir = os.getcwd() + \"\\\\april30_data\\\\1702PH_193nm_die01\\\\VOA5\\\\waveguide2\\\\\"\n",
    "\n",
    "\n",
    "plt.figure(figsize=(10, 4))\n",
    "ax = plt.axes()\n",
    "ax.xaxis.set_major_locator(ticker.MultipleLocator(5))\n",
    "ax.xaxis.set_minor_locator(ticker.MultipleLocator(1))\n",
    "ax.yaxis.set_major_locator(ticker.MultipleLocator(10))\n",
    "ax.yaxis.set_minor_locator(ticker.MultipleLocator(2))\n",
    "ax.tick_params(which='major', direction='inout', length=8, width=2, colors='k',\n",
    "                       labelsize=18)\n",
    "ax.tick_params(which='minor', direction='in', length=4, width=1, colors='k',\n",
    "                       labelsize=18)\n",
    "\n",
    "for file in os.listdir(data_dir)[::-1]:\n",
    "    if file.endswith(\".pickle\"):\n",
    "        s = sweepobj(data_dir + os.path.splitext(file)[0])\n",
    "        plt.plot(s.wavelength*1e9,s.detector_1, label= \"V = \" + os.path.splitext(file)[0] + \" V\")\n",
    "        plt.xlabel(\"Wavelength [nm]\", fontsize=18)\n",
    "        plt.ylabel(\"Transmission [dB]\", fontsize=18)\n",
    "        plt.legend(bbox_to_anchor=(1.05, 1), loc=2, borderaxespad=0.)"
   ]
  },
  {
   "cell_type": "markdown",
   "metadata": {},
   "source": [
    "### 3) Test the photodetectors using the Keithley SMU"
   ]
  },
  {
   "cell_type": "code",
   "execution_count": 1,
   "metadata": {
    "collapsed": false
   },
   "outputs": [
    {
     "name": "stdout",
     "output_type": "stream",
     "text": [
      "The mainframe is: HP8164A\n",
      "Connected to the laser\n",
      "Connected to the instrument.\n"
     ]
    }
   ],
   "source": [
    "# Connect the instruments\n",
    "\n",
    "from Instruments import hp816x_instr\n",
    "from Instruments.Keithley_2612B import Keithley_2612B\n",
    "import matplotlib.pyplot as plt\n",
    "%matplotlib inline\n",
    "import time\n",
    "\n",
    "# Setup the laser\n",
    "LMS = hp816x_instr.hp816x()\n",
    "LMS.connect('GPIB0::20::INSTR')\n",
    "LMS.setTLSOutput('lowsse')\n",
    "LMS.setTLSWavelength(1550e-9)\n",
    "\n",
    "# Setup the current meter\n",
    "PD = Keithley_2612B(0,25,'a')\n",
    "PD.connect()"
   ]
  },
  {
   "cell_type": "markdown",
   "metadata": {},
   "source": [
    "### Measure the responsivity for a specific wavelength. \n",
    "\n",
    "The responsivity is given by\n",
    "\n",
    "$$R=\\frac{P}{I}$$\n",
    "\n",
    "Considering the insertion loss of the input grating coupler to be roughly 6 dB. Doesn't matter for responsivity, only for the dark current."
   ]
  },
  {
   "cell_type": "code",
   "execution_count": 11,
   "metadata": {
    "collapsed": true
   },
   "outputs": [],
   "source": [
    "def measure_responsivity(LMS, PD, wavelength, power_values, plot_resp=False):\n",
    "    \"\"\"\n",
    "    Sweep the laser power and measure the responsivity for a specific wavelength\n",
    "    \"\"\"\n",
    "    IL_GC = 6  # Insertion loss of the input grating coupler [dB]\n",
    "    \n",
    "    LMS.setTLSWavelength(wavelength)\n",
    "    current_values = []\n",
    "    for P in power_values:\n",
    "        time.sleep(0.1)\n",
    "        LMS.setTLSPower(P)\n",
    "        current_values.append(PD.measure_current()[0])\n",
    "        \n",
    "    if plot_resp:\n",
    "        plt.plot(1e-3*10**((power_values-IL_GC)/10), current_values)\n",
    "        plt.xlabel('Optical Power [W]')\n",
    "        plt.ylabel('Photocurrent [A]')\n",
    "        plt.show()\n",
    "    \n",
    "    return np.mean(np.diff(np.asarray(current_values))/np.diff(1e-3*10**((power_values-IL_GC)/10)))"
   ]
  },
  {
   "cell_type": "code",
   "execution_count": 13,
   "metadata": {
    "collapsed": false
   },
   "outputs": [
    {
     "data": {
      "image/png": "[encoded data removed]",
      "text/plain": [
       "<matplotlib.figure.Figure at 0x7dd81b0>"
      ]
     },
     "metadata": {},
     "output_type": "display_data"
    },
    {
     "name": "stdout",
     "output_type": "stream",
     "text": [
      "1.1991323495\n"
     ]
    }
   ],
   "source": [
    "PD.source_voltage(0)\n",
    "PD.output_on()\n",
    "LMS.setTLSState(\"on\")\n",
    "R = measure_responsivity(LMS, PD, 1550e-9, np.linspace(-6,-13,10), True)\n",
    "LMS.setTLSState(\"off\")\n",
    "\n",
    "print(R)"
   ]
  },
  {
   "cell_type": "markdown",
   "metadata": {},
   "source": [
    "### Measure the spectral responsivity\n",
    "\n",
    "Measure the responsivity [A/W] for different wavelengths."
   ]
  },
  {
   "cell_type": "code",
   "execution_count": 14,
   "metadata": {
    "collapsed": false
   },
   "outputs": [
    {
     "data": {
      "image/png": "[encoded data removed]",
      "text/plain": [
       "<matplotlib.figure.Figure at 0x7dcbd30>"
      ]
     },
     "metadata": {},
     "output_type": "display_data"
    },
    {
     "ename": "NameError",
     "evalue": "name 'os' is not defined",
     "output_type": "error",
     "traceback": [
      "\u001b[1;31m---------------------------------------------------------------------------\u001b[0m",
      "\u001b[1;31mNameError\u001b[0m                                 Traceback (most recent call last)",
      "\u001b[1;32m<ipython-input-14-d2ae3ab757de>\u001b[0m in \u001b[0;36m<module>\u001b[1;34m()\u001b[0m\n\u001b[0;32m     12\u001b[0m \u001b[1;33m\u001b[0m\u001b[0m\n\u001b[0;32m     13\u001b[0m \u001b[1;31m# Save the data in a text file\u001b[0m\u001b[1;33m\u001b[0m\u001b[1;33m\u001b[0m\u001b[0m\n\u001b[1;32m---> 14\u001b[1;33m \u001b[0mdata_dir\u001b[0m \u001b[1;33m=\u001b[0m \u001b[0mos\u001b[0m\u001b[1;33m.\u001b[0m\u001b[0mgetcwd\u001b[0m\u001b[1;33m(\u001b[0m\u001b[1;33m)\u001b[0m \u001b[1;33m+\u001b[0m \u001b[1;34m\"\\\\april30_data\\\\1702PH_193nm_die01\\\\\"\u001b[0m\u001b[1;33m\u001b[0m\u001b[0m\n\u001b[0m\u001b[0;32m     15\u001b[0m \u001b[0mnp\u001b[0m\u001b[1;33m.\u001b[0m\u001b[0msavetxt\u001b[0m\u001b[1;33m(\u001b[0m\u001b[0mdata_dir\u001b[0m \u001b[1;33m+\u001b[0m \u001b[1;34m'PD2_spectral_responsivity.txt'\u001b[0m\u001b[1;33m,\u001b[0m \u001b[1;33m(\u001b[0m\u001b[0mwavelength_values\u001b[0m\u001b[1;33m,\u001b[0m \u001b[0mnp\u001b[0m\u001b[1;33m.\u001b[0m\u001b[0masarray\u001b[0m\u001b[1;33m(\u001b[0m\u001b[0mresponsivity\u001b[0m\u001b[1;33m)\u001b[0m\u001b[1;33m)\u001b[0m\u001b[1;33m)\u001b[0m\u001b[1;33m\u001b[0m\u001b[0m\n",
      "\u001b[1;31mNameError\u001b[0m: name 'os' is not defined"
     ]
    }
   ],
   "source": [
    "power_values, wavelength_values, responsivity = np.linspace(-10,-13,10), np.linspace(1500e-9,1600e-9,100), []\n",
    "LMS.setTLSState(\"on\")\n",
    "for wavelength in wavelength_values:\n",
    "    responsivity.append(measure_responsivity(LMS, PD, wavelength, power_values))\n",
    "LMS.setTLSState(\"off\")\n",
    "\n",
    "# Plot the responsivity\n",
    "plt.plot(wavelength_values*1e9, responsivity)\n",
    "plt.xlabel('Wavelength [nm]')\n",
    "plt.ylabel('Responsivity [A/W]')\n",
    "plt.show()\n",
    "\n",
    "# Save the data in a text file\n",
    "data_dir = os.getcwd() + \"\\\\april30_data\\\\1702PH_193nm_die01\\\\\"\n",
    "np.savetxt(data_dir + 'PD2_spectral_responsivity.txt', (wavelength_values, np.asarray(responsivity)))"
   ]
  },
  {
   "cell_type": "code",
   "execution_count": 15,
   "metadata": {
    "collapsed": true
   },
   "outputs": [],
   "source": [
    "import os\n",
    "data_dir = os.getcwd() + \"\\\\april30_data\\\\1702PH_193nm_die01\\\\\"\n",
    "np.savetxt(data_dir + 'PD2_spectral_responsivity.txt', (wavelength_values, np.asarray(responsivity)))"
   ]
  },
  {
   "cell_type": "markdown",
   "metadata": {},
   "source": [
    "### Measure the dark current\n",
    "\n",
    "Measure the IV curve of the photodetector for various applied power and bias"
   ]
  },
  {
   "cell_type": "code",
   "execution_count": null,
   "metadata": {
    "collapsed": false
   },
   "outputs": [],
   "source": [
    "voltage_values, current_values = np.linspace(-5,4,10), []\n",
    "PD.output_on()\n",
    "for V in voltage_values:\n",
    "    PD.source_voltage(V)\n",
    "    current_values.append(PD.measure_current()[0])\n",
    "PD.output_off()   \n",
    "\n",
    "plt.plot(voltage_values, current_values)\n",
    "plt.xlabel('Voltage [V]')\n",
    "plt.ylabel('Current [A]')\n",
    "plt.show()"
   ]
  },
  {
   "cell_type": "code",
   "execution_count": null,
   "metadata": {
    "collapsed": false
   },
   "outputs": [],
   "source": [
    "voltage_values, current_values = np.linspace(4,-5,10), []\n",
    "PD.output_on()\n",
    "for V in voltage_values:\n",
    "    PD.source_voltage(V)\n",
    "    current_values.append(-1*PD.measure_current()[0])\n",
    "PD.output_off()   \n",
    "\n",
    "plt.plot(-1*voltage_values, current_values)\n",
    "plt.xlabel('Voltage [V]')\n",
    "plt.ylabel('Current [A]')\n",
    "plt.show()"
   ]
  },
  {
   "cell_type": "code",
   "execution_count": 30,
   "metadata": {
    "collapsed": false
   },
   "outputs": [],
   "source": [
    "%matplotlib qt\n",
    "# Measure the IV curve for different bias and optical power applied\n",
    "#data_dir = os.getcwd() + \"\\\\april30_data\\\\1702PH_193nm_die01\\\\PD2\\\\\"\n",
    "power_values = np.linspace(-6,-13,3)\n",
    "voltage_values = np.linspace(-10,10,20)\n",
    "\n",
    "\n",
    "LMS.setTLSState(\"on\")\n",
    "for P in power_values:\n",
    "    LMS.setTLSPower(P)\n",
    "    PD.output_on()\n",
    "    current_values = []\n",
    "    for V in voltage_values:\n",
    "        PD.source_voltage(V)\n",
    "        current_values.append(-1*PD.measure_current()[0])\n",
    "    PD.output_off()   \n",
    "    plt.plot(-1*voltage_values, current_values, label=str(P)+\" dBm\")\n",
    "    #np.savetxt(data_dir + str(P) + '.txt', (-1*voltage_values, np.asarray(current_values)))\n",
    "LMS.setTLSState(\"off\")\n",
    "\n",
    "plt.xlabel('Voltage [V]')\n",
    "plt.ylabel('Current [A]')\n",
    "plt.show()"
   ]
  },
  {
   "cell_type": "code",
   "execution_count": 28,
   "metadata": {
    "collapsed": false
   },
   "outputs": [
    {
     "data": {
      "image/png": "[encoded data removed]",
      "text/plain": [
       "<matplotlib.figure.Figure at 0x83983d0>"
      ]
     },
     "metadata": {},
     "output_type": "display_data"
    }
   ],
   "source": [
    "%matplotlib inline\n",
    "power_values = np.linspace(-6,-13,5)\n",
    "for P in power_values:\n",
    "    V,I = np.loadtxt(data_dir + str(P) + '.txt')\n",
    "    plt.plot(V,I, label=str(P)+\" dBm\")\n",
    "LMS.setTLSState(\"off\")\n",
    "\n",
    "plt.xlabel('Voltage [V]')\n",
    "plt.ylabel('Current [A]')\n",
    "plt.show()"
   ]
  },
  {
   "cell_type": "code",
   "execution_count": null,
   "metadata": {
    "collapsed": true
   },
   "outputs": [],
   "source": []
  }
 ],
 "metadata": {
  "kernelspec": {
   "display_name": "Python 2",
   "language": "python",
   "name": "python2"
  },
  "language_info": {
   "codemirror_mode": {
    "name": "ipython",
    "version": 2
   },
   "file_extension": ".py",
   "mimetype": "text/x-python",
   "name": "python",
   "nbconvert_exporter": "python",
   "pygments_lexer": "ipython2",
   "version": "2.7.11"
  }
 },
 "nbformat": 4,
 "nbformat_minor": 2
}
