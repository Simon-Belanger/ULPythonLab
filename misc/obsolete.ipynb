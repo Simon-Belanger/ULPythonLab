{
 "cells": [
  {
   "cell_type": "code",
   "execution_count": null,
   "metadata": {
    "collapsed": true
   },
   "outputs": [],
   "source": [
    "class Agilent_81635A(Instrument_pyvisa):\n",
    "    \"\"\"Creates a detector object to enable measurements using the Agilent 81635A Power Sensor\"\"\"\n",
    "\n",
    "    gpib_address = 'GPIB0::20::INSTR'\n",
    "\n",
    "    def __init__(self, slot, channel):\n",
    "        self.slot = slot\n",
    "        self.channel = channel\n",
    "\n",
    "    def measure_power(self):\n",
    "        \"\"\"Fetch the power measured by the power sensor\"\"\"\n",
    "        power = np.squeeze(\n",
    "            self.inst.query_ascii_values(\"fetch\" + str(self.slot) + \":channel\" + str(self.channel) + \":pow?\"))\n",
    "        if power >= 0:\n",
    "            power = -90\n",
    "        return power\n",
    "\n",
    "    def measure_power_manual(self, slot, channel):\n",
    "        \"\"\"Fetch the power measured by the power sensor\"\"\"\n",
    "        power = np.squeeze(self.inst.query_ascii_values(\"fetch\" + str(slot) + \":channel\" + str(channel) + \":pow?\"))\n",
    "        if power >= 0:\n",
    "            power = -90\n",
    "        return power\n",
    "\n",
    "    def laser_on(self):\n",
    "        \"\"\"Turn the laser on\"\"\"\n",
    "        self.inst.write(\"sour0:pow:stat 1\")\n",
    "\n",
    "    def laser_off(self):\n",
    "        \"\"\"Turn the laser off\"\"\"\n",
    "        self.inst.write(\"sour0:pow:stat 0\")\n",
    "\n",
    "    def get_wavelength(self):\n",
    "        \"\"\"Return the wavelength of the source\"\"\"\n",
    "        return np.squeeze(self.inst.query_ascii_values(\"sour0:channel1:wav?\")) * 1e9\n",
    "\n",
    "    def set_wavelength(self, wavelength):\n",
    "        \"\"\"Set the wavelength of the source\"\"\"\n",
    "        self.inst.write(\"sour0:wav \" + str(wavelength) + \"NM\")"
   ]
  },
  {
   "cell_type": "code",
   "execution_count": null,
   "metadata": {
    "collapsed": true
   },
   "outputs": [],
   "source": []
  }
 ],
 "metadata": {
  "kernelspec": {
   "display_name": "Python 2",
   "language": "python",
   "name": "python2"
  },
  "language_info": {
   "codemirror_mode": {
    "name": "ipython",
    "version": 2
   },
   "file_extension": ".py",
   "mimetype": "text/x-python",
   "name": "python",
   "nbconvert_exporter": "python",
   "pygments_lexer": "ipython2",
   "version": "2.7.11"
  }
 },
 "nbformat": 4,
 "nbformat_minor": 0
}
