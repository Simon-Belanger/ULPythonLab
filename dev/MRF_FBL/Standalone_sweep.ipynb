{
 "cells": [
  {
   "cell_type": "code",
   "execution_count": 21,
   "metadata": {
    "collapsed": false
   },
   "outputs": [
    {
     "name": "stdout",
     "output_type": "stream",
     "text": [
      "Disconnected from the laser\n",
      "The mainframe is: HP8164A\n",
      "Connected to the laser\n",
      "Total number of datapoints: 10001\n",
      "Stitch number: 1\n",
      "Sweeping from 1545.0 nm to 1555.0 nm\n",
      "Enter the name of the file:det2_calib_1545_1555_001\n"
     ]
    }
   ],
   "source": [
    "from Instruments import *\n",
    "import matplotlib.pyplot as plt\n",
    "import numpy as np\n",
    "import os\n",
    "\n",
    "#### OPTIONS ####\n",
    "\n",
    "# Wavelength sweep\n",
    "wvl_start=1545\n",
    "wvl_stop=1555\n",
    "wvl_step=0.001\n",
    "plot_det1 = True\n",
    "plot_det2 = True\n",
    "data_dir = os.getcwd() + \"\\\\chip193-20\\\\\"\n",
    "\n",
    "#### OPTIONS ####\n",
    "\n",
    "\n",
    "# Init Instrument\n",
    "hp = hp816x_instr.hp816x()\n",
    "hp.connect('GPIB0::20::INSTR')\n",
    "hp.sweepUnit = 'dBm'\n",
    "hp.sweepLaserOutput = 'lowsse' # lowsse ou highpower\n",
    "hp.sweepStartWvl = wvl_start * 1e-9\n",
    "hp.sweepStopWvl = wvl_stop * 1e-9\n",
    "hp.sweepStepWvl = wvl_step * 1e-9\n",
    "hp.sweepInitialRange = -20\n",
    "hp.sweepRangeDecrement = 20\n",
    "hp.setPWMPowerUnit(2, 0, 'dBm')\n",
    "hp.setPWMPowerUnit(2, 1, 'dBm')\n",
    "\n",
    "#Sweep\n",
    "wvl_sweep,pow_sweep = hp.sweep()\n",
    "\n",
    "# Turn off the laser\n",
    "hp.setTLSOutput('lowsse', slot=0)\n",
    "hp.setTLSState('off' , slot=0)\n",
    "hp.setPWMPowerUnit(2, 0, 'dBm')\n",
    "hp.setPWMPowerUnit(2, 1, 'dBm')\n",
    "hp.setPWMPowerRange(2, 0, rangeMode='auto')\n",
    "hp.setPWMPowerRange(2, 1, rangeMode='auto')\n",
    "       \n",
    "# Plot the results\n",
    "f = plt.figure()\n",
    "if plot_det1 == True:\n",
    "    plt.plot(wvl_sweep*1e9,pow_sweep.transpose()[0], label='Detector1')\n",
    "if plot_det2 == True:\n",
    "    plt.plot(wvl_sweep*1e9,pow_sweep.transpose()[1], label='Detector2')\n",
    "if plot_det1 or plot_det2:\n",
    "    plt.xlabel('Wavelength (nm)')\n",
    "    plt.ylabel('Power (dBm)')\n",
    "    plt.legend()\n",
    "    plt.show()\n",
    "        \n",
    "# Save the results\n",
    "filename = raw_input(\"Enter the name of the file:\")\n",
    "if not(filename==\"\"):\n",
    "    np.savetxt(data_dir + filename + \".txt\", (wvl_sweep,pow_sweep.transpose()[0],pow_sweep.transpose()[1]))\n",
    "    f.savefig(data_dir + filename + \".pdf\")"
   ]
  },
  {
   "cell_type": "code",
   "execution_count": 26,
   "metadata": {
    "collapsed": false
   },
   "outputs": [],
   "source": [
    "def load_and_plot(filename,color):\n",
    "    \n",
    "    A,B,C = np.loadtxt(filename, dtype=float)\n",
    "\n",
    "    plt.plot(A*1e9,B, label='Detector1',color=color)\n",
    "    plt.plot(A*1e9,C, label='Detector2',color=color)\n",
    "    plt.xlabel('Wavelength (nm)')\n",
    "    plt.ylabel('Power (dBm)')\n",
    "    \n",
    "data_dir = os.getcwd() + \"\\\\Chip193-20\\\\\"\n",
    "f1=plt.figure()\n",
    "load_and_plot(data_dir + \"\\\\align1\\\\\" + \"det1_calib_1545_1555_001.txt\",\"b\")\n",
    "load_and_plot(data_dir + \"\\\\align2\\\\\" + \"det1_calib_1545_1555_001.txt\",\"r\")\n",
    "plt.show()\n",
    "f2=plt.figure()\n",
    "load_and_plot(data_dir + \"\\\\align1\\\\\" + \"det2_calib_1545_1555_001.txt\",\"b\")\n",
    "load_and_plot(data_dir + \"\\\\align2\\\\\" + \"det2_calib_1545_1555_001.txt\",\"r\")\n",
    "plt.show()\n",
    "f3=plt.figure()\n",
    "load_and_plot(data_dir + \"\\\\align1\\\\\" + \"det1_calib_1545_1580_02.txt\",\"b\")\n",
    "load_and_plot(data_dir + \"\\\\align2\\\\\" + \"det1_calib_1545_1580_02.txt\",\"r\")\n",
    "plt.show()\n",
    "f4=plt.figure()\n",
    "load_and_plot(data_dir + \"\\\\align1\\\\\" + \"det2_calib_1545_1580_02.txt\",\"b\")\n",
    "load_and_plot(data_dir + \"\\\\align2\\\\\" + \"det2_calib_1545_1580_02.txt\",\"r\")\n",
    "plt.show()"
   ]
  },
  {
   "cell_type": "code",
   "execution_count": null,
   "metadata": {
    "collapsed": true
   },
   "outputs": [],
   "source": []
  }
 ],
 "metadata": {
  "kernelspec": {
   "display_name": "Python 2",
   "language": "python",
   "name": "python2"
  },
  "language_info": {
   "codemirror_mode": {
    "name": "ipython",
    "version": 2
   },
   "file_extension": ".py",
   "mimetype": "text/x-python",
   "name": "python",
   "nbconvert_exporter": "python",
   "pygments_lexer": "ipython2",
   "version": "2.7.11"
  }
 },
 "nbformat": 4,
 "nbformat_minor": 0
}
