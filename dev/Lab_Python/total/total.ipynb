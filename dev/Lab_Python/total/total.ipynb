{
 "cells": [
  {
   "cell_type": "code",
   "execution_count": 7,
   "metadata": {},
   "outputs": [],
   "source": [
    "# Import the required modules\n",
    "import visa\n",
    "import time\n",
    "import numpy as np\n",
    "from scipy.optimize import minimize\n",
    "import matplotlib.pyplot as plt\n",
    "from Keithley import Agilent_81635A\n",
    "from Agilent_81635A import Agilent_81635A\n",
    "from Agilent_E3646A import Agilent_E3646A"
   ]
  },
  {
   "cell_type": "code",
   "execution_count": 101,
   "metadata": {},
   "outputs": [],
   "source": [
    "# Coordinates descent Algorithm \n",
    "def sweep_bias(MRF,channel):\n",
    "    \"\"\"Coarse tuning of a MRF object using the coordinates descent algorithm.\"\"\"\n",
    "    \n",
    "    # Possible bias values\n",
    "    bias_min = 0\n",
    "    bias_max = 4\n",
    "    bias_points = 100\n",
    "    bias_testpoints = np.linspace(bias_min,bias_max,bias_points).tolist()\n",
    "    \n",
    "    # Turn on the laser and set the wavelength\n",
    "    MRF.PD.set_wavelength(1550)\n",
    "    MRF.PD.laser_on()\n",
    "   \n",
    "    power_list = []\n",
    "    for k in bias_testpoints: # For each bias value\n",
    "        MRF.apply_bias(channel,k)\n",
    "        #time.sleep(1)\n",
    "        power_list.append(MRF.PD.measure_power())\n",
    "    plotsweep(bias_testpoints, power_list)\n",
    "    MRF.apply_bias(channel,bias_testpoints[power_list.index(min(power_list))])\n",
    "    # Turn on the laser \n",
    "    MRF.PD.laser_off()\n",
    "\n",
    "# Coordinates descent Algorithm \n",
    "def CoordsDescent(MRF,number_iter):\n",
    "    \"\"\"Coarse tuning of a MRF object using the coordinates descent algorithm.\"\"\"\n",
    "    \n",
    "    # Possible bias values\n",
    "    bias_min = 0\n",
    "    bias_max = 4\n",
    "    bias_points = 100\n",
    "    bias_testpoints = np.linspace(bias_min,bias_max,bias_points).tolist()\n",
    "    \n",
    "    # Turn on the laser and set the wavelength\n",
    "    MRF.PD.laser_on()\n",
    "    for i in range(1,number_iter+1): # For each iteration\n",
    "        for j in range(0,MRF.num_parameters): # For each ring\n",
    "            power_list = []\n",
    "            for k in bias_testpoints: # For each bias value\n",
    "                MRF.apply_bias(j+1,k)\n",
    "                #time.sleep(1)\n",
    "                power_list.append(MRF.PD.measure_power())\n",
    "            plotsweep(bias_testpoints, power_list)\n",
    "            MRF.apply_bias(j+1,bias_testpoints[power_list.index(min(power_list))])\n",
    "    # Turn on the laser \n",
    "    MRF.PD.laser_off()\n",
    "            \n",
    "# Nelder Mead simplex algorithm\n",
    "def NelderMead(MRF):\n",
    "    \"\"\"Fine tuning of a MRF object using the Nelder Mead simplex algorithm\"\"\"\n",
    "    # Turn on the source\n",
    "    MRF.PD.laser_on()\n",
    "    # Initial guess\n",
    "    x0 = MRF.applied_bias\n",
    "    # Optimization\n",
    "    res = minimize(MRF.minimize_MRF, x0, method='Nelder-Mead', tol=1e-6, options={'disp': True})\n",
    "    #Turn off the source\n",
    "    MRF.PD.laser_off()\n",
    "    return res.x\n",
    "\n",
    "def tuneMRF(MRF, wavelength):\n",
    "    \"\"\"Tune/stabilise the MRF object using coarse + fine algorithms\"\"\"\n",
    "   \n",
    "    MRF.PD.set_wavelength(wavelength)\n",
    "    \n",
    "    CoordsDescent(MRF,2) # Coordinates descent\n",
    "    NelderMead(MRF) # Nelder Mead\n",
    "    \n",
    "def plotsweep(bias, power):\n",
    "    plt.plot(bias, power)\n",
    "    plt.plot([bias[power.index(min(power))]], [min(power)], marker='o', markersize=10, color=\"red\")\n",
    "    plt.xlabel(\"Bias [V]\")\n",
    "    plt.ylabel(\"Power [dBm]\")\n",
    "    plt.show()"
   ]
  },
  {
   "cell_type": "code",
   "execution_count": 102,
   "metadata": {},
   "outputs": [],
   "source": [
    "class RealMRF(object):\n",
    "    \"\"\"\"\"\"\n",
    "    \n",
    "    def __init__(self,instruments):\n",
    "        self.PD = instruments['PD']      \n",
    "        self.DCsources = instruments['DCsources']\n",
    "        self.num_parameters = len(self.DCsources)\n",
    "        self.applied_bias = [0.] * self.num_parameters\n",
    "    \n",
    "    def connect_instruments(self):\n",
    "        \"\"\"Conncet the DC sources remotely.\"\"\"\n",
    "        # Connect the power sensor\n",
    "        self.PD.connect()\n",
    "        # Connect the DC sources\n",
    "        for instrument in self.DCsources:\n",
    "            instrument.connect()\n",
    "    \n",
    "    def apply_bias(self,source_num,bias):\n",
    "        \"\"\"Set the bias for the ring #[ring_number] at [bias_value]\"\"\"\n",
    "        self.applied_bias[source_num-1] = bias\n",
    "        self.DCsources[source_num-1].source_voltage(bias)\n",
    "        \n",
    "    def DC_off(self):\n",
    "        \"\"\"Turn off the DC bias for all DC sources.\"\"\"\n",
    "        for i in range(self.num_parameters):\n",
    "            self.apply_bias(i,0)      \n",
    "    \n",
    "    def test_MRF(self,bias_list):\n",
    "        \"\"\"\"\"\"\n",
    "        # Apply bias to DC sources\n",
    "        for i in range(self.num_parameters):\n",
    "            self.apply_bias(i+1,bias_list[i])\n",
    "        # Measure the optical power on the sensor\n",
    "        return float(self.PD.measure_power())\n",
    "    \n",
    "    def minimize_MRF(self,bias_list):\n",
    "        \"\"\"Minimization optimisation function for the MRF object\"\"\"\n",
    "        return self.test_MRF(bias_list)"
   ]
  },
  {
   "cell_type": "code",
   "execution_count": 122,
   "metadata": {},
   "outputs": [],
   "source": [
    "instruments = {'PD': Agilent_81635A(2,1),\n",
    "             'DCsources': [Keithley_2612B('a'), Keithley_2612B('b'), Agilent_E3646A('1')]}\n",
    "\n",
    "mrf = RealMRF(instruments)\n",
    "#print mrf.num_parameters\n",
    "mrf.connect_instruments()\n",
    "#mrf.apply_bias(3,0)\n",
    "#print mrf.minimize_MRF([0,0])"
   ]
  },
  {
   "cell_type": "code",
   "execution_count": 123,
   "metadata": {},
   "outputs": [
    {
     "name": "stdout",
     "output_type": "stream",
     "text": [
      "Warning: Maximum number of function evaluations has been exceeded.\n"
     ]
    }
   ],
   "source": [
    "mrf.DC_off()\n",
    "tuneMRF(mrf,1550)"
   ]
  },
  {
   "cell_type": "code",
   "execution_count": null,
   "metadata": {
    "collapsed": true
   },
   "outputs": [],
   "source": [
    "mrf.apply_bias(3,2)"
   ]
  },
  {
   "cell_type": "code",
   "execution_count": 124,
   "metadata": {},
   "outputs": [],
   "source": [
    "mrf.DC_off()"
   ]
  },
  {
   "cell_type": "code",
   "execution_count": null,
   "metadata": {},
   "outputs": [],
   "source": [
    "PD.laser_off()"
   ]
  },
  {
   "cell_type": "code",
   "execution_count": null,
   "metadata": {},
   "outputs": [],
   "source": [
    "mrf.DC_off()\n",
    "sweep_bias(mrf,3)"
   ]
  }
 ],
 "metadata": {
  "kernelspec": {
   "display_name": "Python 3",
   "language": "python",
   "name": "python3"
  },
  "language_info": {
   "codemirror_mode": {
    "name": "ipython",
    "version": 3
   },
   "file_extension": ".py",
   "mimetype": "text/x-python",
   "name": "python",
   "nbconvert_exporter": "python",
   "pygments_lexer": "ipython3",
   "version": "3.6.5"
  }
 },
 "nbformat": 4,
 "nbformat_minor": 1
}
