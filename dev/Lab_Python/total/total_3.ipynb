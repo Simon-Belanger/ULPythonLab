{
 "cells": [
  {
   "cell_type": "code",
   "execution_count": 2,
   "metadata": {
    "collapsed": false
   },
   "outputs": [],
   "source": [
    "# Import the required modules\n",
    "import visa\n",
    "import time\n",
    "import numpy as np\n",
    "from scipy.optimize import minimize\n",
    "import matplotlib.pyplot as plt\n",
    "from Keithley_2612B import Keithley_2612B\n",
    "from Agilent_81635A import Agilent_81635A\n",
    "from Agilent_E3646A import Agilent_E3646A\n",
    "\n",
    "# Coordinates descent Algorithm \n",
    "def sweep_bias(MRF,channel):\n",
    "    \"\"\"Coarse tuning of a MRF object using the coordinates descent algorithm.\"\"\"\n",
    "    \n",
    "    # Possible bias values\n",
    "    bias_min = 0\n",
    "    bias_max = 3\n",
    "    bias_points = 100\n",
    "    bias_testpoints = np.linspace(bias_min,bias_max,bias_points).tolist()\n",
    "    \n",
    "    # Turn on the laser and set the wavelength\n",
    "    MRF.PD.set_wavelength(1550)\n",
    "    MRF.PD.laser_on()\n",
    "   \n",
    "    power_list = []\n",
    "    for k in bias_testpoints: # For each bias value\n",
    "        MRF.apply_bias(channel,k)\n",
    "        time.sleep(0.2)\n",
    "        power_list.append(MRF.PD.measure_power())\n",
    "    plotsweep(bias_testpoints, power_list)\n",
    "    MRF.apply_bias(channel,bias_testpoints[power_list.index(min(power_list))])\n",
    "    # Turn on the laser \n",
    "    MRF.PD.laser_off()\n",
    "\n",
    "# Coordinates descent Algorithm \n",
    "def CoordsDescent(MRF,number_iter):\n",
    "    \"\"\"Coarse tuning of a MRF object using the coordinates descent algorithm.\"\"\"\n",
    "    \n",
    "    # Turn on the laser and set the wavelength\n",
    "    MRF.PD.laser_on()\n",
    "    for i in range(1,number_iter+1): # For each iteration\n",
    "        for j in range(0,MRF.num_parameters): # For each ring\n",
    "            power_list = []\n",
    "            \n",
    "            # Possible bias values\n",
    "            bias_min = 0\n",
    "            bias_max = MRF.limitDC[j]\n",
    "\n",
    "            bias_points = 500\n",
    "            bias_testpoints = np.linspace(bias_min,bias_max,bias_points).tolist()\n",
    "            \n",
    "            for k in bias_testpoints: # For each bias value\n",
    "                MRF.apply_bias(j+1,k)\n",
    "                time.sleep(0.2)\n",
    "                power_list.append(MRF.PD.measure_power())            \n",
    "            plotsweep(bias_testpoints, power_list)\n",
    "            \n",
    "            # pour choisir une valeur autre que le minimum\n",
    "            bias_voulu = raw_input('Enter your bias:')\n",
    "            if bias_voulu == \"min\":\n",
    "                MRF.apply_bias(j+1,bias_testpoints[power_list.index(min(power_list))])\n",
    "            else:\n",
    "                MRF.apply_bias(j+1,bias_voulu)\n",
    "                \n",
    "    # Turn on the laser \n",
    "    MRF.PD.laser_off()\n",
    "            \n",
    "# Nelder Mead simplex algorithm\n",
    "def NelderMead(MRF):\n",
    "    \"\"\"Fine tuning of a MRF object using the Nelder Mead simplex algorithm\"\"\"\n",
    "    # Turn on the source\n",
    "    MRF.PD.laser_on()\n",
    "    # Initial guess\n",
    "    x0 = MRF.applied_bias\n",
    "    # Optimization\n",
    "    res = minimize(MRF.minimize_MRF, x0, method='Nelder-Mead', tol=1e-6, options={'disp': True})\n",
    "    #Turn off the source\n",
    "    MRF.PD.laser_off()\n",
    "    return res.x\n",
    "\n",
    "def tuneMRF(MRF, wavelength):\n",
    "    \"\"\"Tune/stabilise the MRF object using coarse + fine algorithms\"\"\"\n",
    "   \n",
    "    MRF.PD.set_wavelength(wavelength)\n",
    "    \n",
    "    CoordsDescent(MRF,2) # Coordinates descent\n",
    "    NelderMead(MRF) # Nelder Mead\n",
    "    \n",
    "def plotsweep(bias, power):\n",
    "    plt.plot(bias, power)\n",
    "    plt.plot([bias[power.index(min(power))]], [min(power)], marker='o', markersize=10, color=\"red\")\n",
    "    plt.xlabel(\"Bias [V]\")\n",
    "    plt.ylabel(\"Power [dBm]\")\n",
    "    plt.show()\n",
    "    \n",
    "def plotsweep2(ax, bias, power):\n",
    "    ax.plot(bias, power)\n",
    "    ax.plot([bias[power.index(min(power))]], [min(power)], marker='o', markersize=10, color=\"red\")\n",
    "    ax.xlabel(\"Bias [V]\")\n",
    "    ax.ylabel(\"Power [dBm]\")\n",
    "    return ax\n",
    "    \n",
    "# MRF object class\n",
    "class RealMRF(object):\n",
    "    \"\"\"\"\"\"\n",
    "    \n",
    "    def __init__(self,instruments):\n",
    "        self.PD = instruments['PD']      \n",
    "        self.DCsources = instruments['DCsources']\n",
    "        self.limitDC = instruments['limitDC']\n",
    "        self.num_parameters = len(self.DCsources)\n",
    "        self.applied_bias = [0.] * self.num_parameters\n",
    "    \n",
    "    def connect_instruments(self):\n",
    "        \"\"\"Conncet the DC sources remotely.\"\"\"\n",
    "        # Connect the power sensor\n",
    "        self.PD.connect()\n",
    "        # Connect the DC sources\n",
    "        for instrument in self.DCsources:\n",
    "            instrument.connect()\n",
    "    \n",
    "    def apply_bias(self,source_num,bias):\n",
    "        \"\"\"Set the bias for the ring #[ring_number] at [bias_value]\"\"\"\n",
    "        self.applied_bias[source_num-1] = bias\n",
    "        self.DCsources[source_num-1].source_voltage(bias)\n",
    "        \n",
    "    def DC_off(self):\n",
    "        \"\"\"Turn off the DC bias for all DC sources.\"\"\"\n",
    "        for i in range(self.num_parameters):\n",
    "            self.apply_bias(i,0)      \n",
    "    \n",
    "    def test_MRF(self,bias_list):\n",
    "        \"\"\"\"\"\"\n",
    "        # Apply bias to DC sources\n",
    "        for i in range(self.num_parameters):\n",
    "            self.apply_bias(i+1,bias_list[i])\n",
    "        # Measure the optical power on the sensor\n",
    "        return float(self.PD.measure_power())\n",
    "    \n",
    "    def minimize_MRF(self,bias_list):\n",
    "        \"\"\"Minimization optimisation function for the MRF object\"\"\"\n",
    "        return self.test_MRF(bias_list)"
   ]
  },
  {
   "cell_type": "code",
   "execution_count": 3,
   "metadata": {
    "collapsed": false
   },
   "outputs": [],
   "source": [
    "test1 = Agilent_E3646A('1')\n",
    "test1.connect()\n",
    "test1.set_range_high()\n",
    "test1 = Agilent_E3646A('2')\n",
    "test1.connect()\n",
    "test1.set_range_high()\n",
    "test2 = Keithley_2612B('a')\n",
    "test2.connect()\n",
    "test2.set_range(20)\n",
    "test2 = Keithley_2612B('b')\n",
    "test2.connect()\n",
    "test2.set_range(20)\n",
    "\n",
    "instruments = {'PD': Agilent_81635A(2,1),\n",
    "             'DCsources': [Keithley_2612B('b'), Agilent_E3646A('1'), Agilent_E3646A('2')],\n",
    "              'limitDC': [16, 16, 10]}\n",
    "\n",
    "mrf = RealMRF(instruments)\n",
    "mrf.connect_instruments()"
   ]
  },
  {
   "cell_type": "code",
   "execution_count": null,
   "metadata": {
    "collapsed": false
   },
   "outputs": [],
   "source": [
    "mrf.DC_off()\n",
    "mrf.PD.set_wavelength(1513.45)\n",
    "CoordsDescent(mrf,2) # Coordinates descent"
   ]
  },
  {
   "cell_type": "code",
   "execution_count": 4,
   "metadata": {
    "collapsed": false
   },
   "outputs": [],
   "source": [
    "mrf.apply_bias(1,5.33)"
   ]
  },
  {
   "cell_type": "code",
   "execution_count": null,
   "metadata": {
    "collapsed": true
   },
   "outputs": [],
   "source": [
    "mrf.DC_off()"
   ]
  },
  {
   "cell_type": "code",
   "execution_count": 5,
   "metadata": {
    "collapsed": false
   },
   "outputs": [
    {
     "name": "stdout",
     "output_type": "stream",
     "text": [
      "The mainframe is: HP8164A\n",
      "Connected to the laser\n",
      "Total number of datapoints: 17501\n",
      "Stitch number: 1\n",
      "Sweeping from 1505.0 nm to 1540.0 nm\n",
      "Disconnected from the laser\n"
     ]
    }
   ],
   "source": [
    "ag = Agilent_81635A(2,2)\n",
    "ag.connect()\n",
    "ag.sweep(wavelength_start=1505, wavelength_stop=1540, wavelength_step=0.002, plot_sweep=True)"
   ]
  },
  {
   "cell_type": "code",
   "execution_count": null,
   "metadata": {
    "collapsed": true
   },
   "outputs": [],
   "source": [
    "instruments = {'PD': Agilent_81635A(2,1),\n",
    "             'DCsources': [Agilent_E3646A('1')]}\n",
    "\n",
    "mrf = RealMRF(instruments)\n",
    "#print mrf.num_parameters\n",
    "mrf.connect_instruments()\n",
    "#mrf.apply_bias(3,0)\n",
    "#print mrf.minimize_MRF([0,0])"
   ]
  },
  {
   "cell_type": "code",
   "execution_count": null,
   "metadata": {
    "collapsed": true
   },
   "outputs": [],
   "source": [
    "mrf.DC_off()\n",
    "mrf.PD.set_wavelength(1532)\n",
    "CoordsDescent(mrf,1) # Coordinates descent\n"
   ]
  },
  {
   "cell_type": "code",
   "execution_count": 6,
   "metadata": {
    "collapsed": false
   },
   "outputs": [
    {
     "name": "stdout",
     "output_type": "stream",
     "text": [
      "The mainframe is: HP8164A\n",
      "Connected to the laser\n",
      "Total number of datapoints: 3001\n",
      "Stitch number: 1\n",
      "Sweeping from 1512.0 nm to 1518.0 nm\n",
      "Saving file : V=0_000.txt\n",
      "Total number of datapoints: 3001\n",
      "Stitch number: 1\n",
      "Sweeping from 1512.0 nm to 1518.0 nm\n",
      "Saving file : V=1_778.txt\n",
      "Total number of datapoints: 3001\n",
      "Stitch number: 1\n",
      "Sweeping from 1512.0 nm to 1518.0 nm\n",
      "Saving file : V=3_556.txt\n",
      "Total number of datapoints: 3001\n",
      "Stitch number: 1\n",
      "Sweeping from 1512.0 nm to 1518.0 nm\n",
      "Saving file : V=5_333.txt\n",
      "Total number of datapoints: 3001\n",
      "Stitch number: 1\n",
      "Sweeping from 1512.0 nm to 1518.0 nm\n",
      "Saving file : V=7_111.txt\n",
      "Total number of datapoints: 3001\n",
      "Stitch number: 1\n",
      "Sweeping from 1512.0 nm to 1518.0 nm\n",
      "Saving file : V=8_889.txt\n",
      "Total number of datapoints: 3001\n",
      "Stitch number: 1\n",
      "Sweeping from 1512.0 nm to 1518.0 nm\n",
      "Saving file : V=10_667.txt\n",
      "Total number of datapoints: 3001\n",
      "Stitch number: 1\n",
      "Sweeping from 1512.0 nm to 1518.0 nm\n",
      "Saving file : V=12_444.txt\n",
      "Total number of datapoints: 3001\n",
      "Stitch number: 1\n",
      "Sweeping from 1512.0 nm to 1518.0 nm\n",
      "Saving file : V=14_222.txt\n",
      "Total number of datapoints: 3001\n",
      "Stitch number: 1\n",
      "Sweeping from 1512.0 nm to 1518.0 nm\n",
      "Saving file : V=16_000.txt\n",
      "Disconnected from the laser\n"
     ]
    }
   ],
   "source": [
    "from hp816x_instr import hp816x\n",
    "import numpy as np\n",
    "import matplotlib.pyplot as plt\n",
    "from Keithley_2612B import Keithley_2612B\n",
    "from Agilent_E3646A import Agilent_E3646A\n",
    "import os\n",
    "\n",
    "#source = Keithley_2612B('a')\n",
    "source = Keithley_2612B('b')\n",
    "#source = Agilent_E3646A('1')\n",
    "#source = Agilent_E3646A('2')\n",
    "\n",
    "\n",
    "# Script for a single bias sweep WORKS\n",
    "def sweep_bias_shape(wvl_start=1512, wvl_stop=1518, wvl_step=0.002, DCsource=source, bias_min=0, bias_max=16, bias_points=10):\n",
    "    \"\"\"\"\"\"\n",
    "    \n",
    "    #  Location to save the data\n",
    "    data_dir = os.getcwd() + \"\\\\Data\\\\\"\n",
    "\n",
    "    \n",
    "    # Initialize the DC source\n",
    "    DCsource.connect()\n",
    "    DCsource.set_range_high()\n",
    "    \n",
    "    # Initialize the laser, connect it and set the sweep params\n",
    "    hp = hp816x()\n",
    "    hp.connect('GPIB0::20::INSTR')\n",
    "    hp.sweepUnit = 'dBm'\n",
    "    hp.sweepLaserOutput = 'lowsse' # lowsse ou highpower\n",
    "    hp.sweepStartWvl = wvl_start * 1e-9\n",
    "    hp.sweepStopWvl = wvl_stop * 1e-9\n",
    "    hp.sweepStepWvl = wvl_step * 1e-9\n",
    "    \n",
    "    # Sweep the bias\n",
    "    bias_testpoints = np.linspace(bias_min,bias_max,bias_points).tolist()\n",
    "    for k in bias_testpoints: # For each bias value\n",
    "        DCsource.source_voltage(k)\n",
    "        #time.sleep(0.1)\n",
    "        \n",
    "                \n",
    "        filename = \"V=\" + '{:.3f}'.format(k).replace(\".\",\"_\") + \".txt\"\n",
    "        \n",
    "        # Perform the sweep\n",
    "        wvl_sweep,pow_sweep = hp.sweep()\n",
    "        \n",
    "        # Plot the results\n",
    "        plot_sweep=False\n",
    "        if plot_sweep == True:\n",
    "            \n",
    "            plt.plot(wvl_sweep*1e9,pow_sweep.transpose()[0], label='Detector1')\n",
    "            plt.plot(wvl_sweep*1e9,pow_sweep.transpose()[1], label='Detector2')\n",
    "            plt.xlabel('Wavelength (nm)')\n",
    "            plt.ylabel('Power (dBm)')\n",
    "            plt.legend()\n",
    "            plt.show()\n",
    "        \n",
    "        # Save the results\n",
    "        if not(filename==\"\"):\n",
    "            np.savetxt(data_dir + filename, (wvl_sweep,pow_sweep.transpose()[0],pow_sweep.transpose()[1]))\n",
    "            print(\"Saving file : \" + filename)\n",
    "        # Turn off the laser\n",
    "        hp.setTLSOutput('lowsse', slot=0)\n",
    "        hp.setTLSState('off' , slot=0)\n",
    "        hp.setPWMPowerUnit(2, 0, 'dBm')\n",
    "        hp.setPWMPowerUnit(2, 1, 'dBm')\n",
    "        hp.setPWMPowerRange(2, 0, rangeMode='auto')\n",
    "        hp.setPWMPowerRange(2, 1, rangeMode='auto')\n",
    "    \n",
    "    # Turn DC source Off\n",
    "    DCsource.output_off()\n",
    "    hp.disconnect()\n",
    "    \n",
    "# Run the sweep\n",
    "sweep_bias_shape()   "
   ]
  },
  {
   "cell_type": "code",
   "execution_count": 7,
   "metadata": {
    "collapsed": true
   },
   "outputs": [],
   "source": [
    "###### Load the sweep data save to file \n",
    "import os\n",
    "import numpy as np\n",
    "import matplotlib.pyplot as plt\n",
    "from matplotlib import cm\n",
    "\n",
    "def load_and_plot(filename,color):\n",
    "    \n",
    "    A,B,C = np.loadtxt(filename, dtype=float)\n",
    "\n",
    "    plt.plot(A*1e9,B, label='Detector1',color=color)\n",
    "    plt.plot(A*1e9,C, label='Detector2',color=color)\n",
    "    plt.xlabel('Wavelength (nm)')\n",
    "    plt.ylabel('Power (dBm)')\n",
    "    \n",
    "data_dir = os.getcwd() + \"\\\\Data\\\\\"\n",
    "bias_min=0\n",
    "bias_max=16\n",
    "bias_points=10\n",
    "bias_testpoints = np.linspace(bias_min,bias_max,bias_points).tolist()\n",
    "cmap = cm.get_cmap('jet')\n",
    "f = plt.figure()\n",
    "for k in bias_testpoints: # For each bias value           \n",
    "    filename = \"V=\" + '{:.3f}'.format(k).replace(\".\",\"_\") + \".txt\"\n",
    "    load_and_plot(data_dir + filename,cmap(k/bias_max))\n",
    "plt.show()\n",
    "f.savefig(data_dir + 'fig.pdf')"
   ]
  },
  {
   "cell_type": "code",
   "execution_count": null,
   "metadata": {
    "collapsed": false
   },
   "outputs": [],
   "source": [
    "import os\n",
    "\n",
    "cur_dir = os.getcwd()\n",
    "data_dir = cur_dir + \"\\\\Data\\\\\"\n",
    "data_dir"
   ]
  },
  {
   "cell_type": "code",
   "execution_count": null,
   "metadata": {
    "collapsed": false
   },
   "outputs": [],
   "source": [
    "print(\"V=\" + '{:.3f}'.format(k).replace(\".\",\"_\") + \".txt\")"
   ]
  },
  {
   "cell_type": "code",
   "execution_count": null,
   "metadata": {
    "collapsed": false
   },
   "outputs": [],
   "source": [
    "import matplotlib\n",
    "\n",
    "cmap = matplotlib.colors.Colormap('naem', N=5)\n",
    "\n",
    "print(dir(cmap))"
   ]
  },
  {
   "cell_type": "code",
   "execution_count": null,
   "metadata": {
    "collapsed": false
   },
   "outputs": [],
   "source": [
    "import matplotlib\n",
    "\n",
    "c2 = matplotlib.cm.get_cmap('jet')\n"
   ]
  },
  {
   "cell_type": "code",
   "execution_count": null,
   "metadata": {
    "collapsed": false
   },
   "outputs": [],
   "source": [
    "import matplotlib.pyplot as plt\n",
    "from matplotlib import cm\n",
    "\n",
    "cmap = cm.get_cmap('Spectral')\n",
    "\n",
    "for i in range(10):\n",
    "    plt.plot([1,2,3],[1,2,3],color=cmap(i*0.1))\n",
    "    plt.show()"
   ]
  },
  {
   "cell_type": "code",
   "execution_count": null,
   "metadata": {
    "collapsed": false
   },
   "outputs": [],
   "source": [
    "from hp816x_instr import hp816x\n",
    "\n",
    "hp = hp816x()\n",
    "hp.connect('GPIB0::20::INSTR')\n",
    "hp.sweepUnit = 'dBm'\n",
    "hp.sweepLaserOutput = 'lowsse' # lowsse ou highpower\n",
    "hp.setTLSOutput('lowsse', slot=0)\n",
    "hp.setTLSState('off' , slot=0)\n",
    "hp.setPWMPowerUnit(2, 0, 'dBm')\n",
    "hp.setPWMPowerUnit(2, 1, 'dBm')\n",
    "hp.setPWMPowerRange(2, 0, rangeMode='auto')\n",
    "hp.setPWMPowerRange(2, 1, rangeMode='auto')"
   ]
  },
  {
   "cell_type": "code",
   "execution_count": null,
   "metadata": {
    "collapsed": false
   },
   "outputs": [],
   "source": [
    "vall = Keithley_2612B('a')\n",
    "vall.connect()\n",
    "vall.apply_bias(1,5.33)"
   ]
  }
 ],
 "metadata": {
  "kernelspec": {
   "display_name": "Python 2",
   "language": "python",
   "name": "python2"
  },
  "language_info": {
   "codemirror_mode": {
    "name": "ipython",
    "version": 2
   },
   "file_extension": ".py",
   "mimetype": "text/x-python",
   "name": "python",
   "nbconvert_exporter": "python",
   "pygments_lexer": "ipython2",
   "version": "2.7.11"
  }
 },
 "nbformat": 4,
 "nbformat_minor": 1
}
