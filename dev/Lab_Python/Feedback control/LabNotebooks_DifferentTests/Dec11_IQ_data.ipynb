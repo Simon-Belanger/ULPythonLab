{
 "cells": [
  {
   "cell_type": "code",
   "execution_count": 57,
   "metadata": {},
   "outputs": [],
   "source": [
    "import numpy as np\n",
    "from Instruments.Keithley_2612B import Keithley_2612B\n",
    "from Instruments.Agilent_E3631A import Agilent_E3631A \n",
    "\n",
    "# DC sources objects\n",
    "SMU_I = Keithley_2612B(25, 'a')\n",
    "SMU_Q = Keithley_2612B(25, 'b')\n",
    "\n",
    "# DC objects\n",
    "DC_I = Agilent_E3631A(1, '6')\n",
    "DC_Q = Agilent_E3631A(5, '6')\n",
    "\n",
    "PS = Agilent_E3631A(1, 'p25')\n",
    "\n",
    "SMU_I.connect()\n",
    "SMU_Q.connect()\n",
    "DC_I.connect()\n",
    "DC_Q.connect()\n",
    "PS.connect()"
   ]
  },
  {
   "cell_type": "code",
   "execution_count": 84,
   "metadata": {},
   "outputs": [],
   "source": [
    "import time\n",
    "# TUning to 1556.5\n",
    "\n",
    "# Set the rings reverse bias to 2V\n",
    "SMU_I.source_voltage(2)\n",
    "SMU_Q.source_voltage(2)\n",
    "SMU_I.output_on()\n",
    "SMU_Q.output_on()\n",
    "# Set the heaters bias to 0\n",
    "DC_I.source_voltage(2.6)#2.6\n",
    "DC_Q.source_voltage(3.25) #3.25\n",
    "\n",
    "# Set the phaseshift\n",
    "PS.source_voltage(2.3)"
   ]
  },
  {
   "cell_type": "code",
   "execution_count": 85,
   "metadata": {},
   "outputs": [
    {
     "ename": "KeyboardInterrupt",
     "evalue": "",
     "output_type": "error",
     "traceback": [
      "\u001b[1;31m---------------------------------------------------------------------------\u001b[0m",
      "\u001b[1;31mKeyboardInterrupt\u001b[0m                         Traceback (most recent call last)",
      "\u001b[1;32m<ipython-input-85-4b47f63db2a2>\u001b[0m in \u001b[0;36m<module>\u001b[1;34m()\u001b[0m\n\u001b[0;32m      2\u001b[0m \u001b[0mI\u001b[0m \u001b[1;33m=\u001b[0m \u001b[1;33m[\u001b[0m\u001b[1;33m]\u001b[0m\u001b[1;33m\u001b[0m\u001b[0m\n\u001b[0;32m      3\u001b[0m \u001b[1;32mfor\u001b[0m \u001b[0mi\u001b[0m \u001b[1;32min\u001b[0m \u001b[0mV\u001b[0m\u001b[1;33m:\u001b[0m\u001b[1;33m\u001b[0m\u001b[0m\n\u001b[1;32m----> 4\u001b[1;33m     \u001b[0mtime\u001b[0m\u001b[1;33m.\u001b[0m\u001b[0msleep\u001b[0m\u001b[1;33m(\u001b[0m\u001b[1;36m2\u001b[0m\u001b[1;33m)\u001b[0m\u001b[1;33m\u001b[0m\u001b[0m\n\u001b[0m\u001b[0;32m      5\u001b[0m     \u001b[0mPS\u001b[0m\u001b[1;33m.\u001b[0m\u001b[0msource_voltage\u001b[0m\u001b[1;33m(\u001b[0m\u001b[0mi\u001b[0m\u001b[1;33m)\u001b[0m\u001b[1;33m\u001b[0m\u001b[0m\n\u001b[0;32m      6\u001b[0m     \u001b[0mI\u001b[0m\u001b[1;33m.\u001b[0m\u001b[0mappend\u001b[0m\u001b[1;33m(\u001b[0m\u001b[0mPS\u001b[0m\u001b[1;33m.\u001b[0m\u001b[0mmeasure_current\u001b[0m\u001b[1;33m(\u001b[0m\u001b[1;33m)\u001b[0m\u001b[1;33m)\u001b[0m\u001b[1;33m\u001b[0m\u001b[0m\n",
      "\u001b[1;31mKeyboardInterrupt\u001b[0m: "
     ]
    }
   ],
   "source": [
    "V = np.linspace(2.,3.,20)\n",
    "I = []\n",
    "for i in V:\n",
    "    time.sleep(2)\n",
    "    PS.source_voltage(i)\n",
    "    I.append(PS.measure_current())\n",
    "import matplotlib.pyplot as plt\n",
    "plt.plot(V, I)\n",
    "plt.show()"
   ]
  },
  {
   "cell_type": "code",
   "execution_count": 56,
   "metadata": {},
   "outputs": [
    {
     "data": {
      "image/png": "[encoded data removed]",
      "text/plain": [
       "<Figure size 432x288 with 1 Axes>"
      ]
     },
     "metadata": {
      "needs_background": "light"
     },
     "output_type": "display_data"
    }
   ],
   "source": [
    "plt.plot(V, V*I)\n",
    "plt.show()"
   ]
  },
  {
   "cell_type": "code",
   "execution_count": 101,
   "metadata": {},
   "outputs": [],
   "source": [
    "# TUning to 1556.25\n",
    "\n",
    "# Set the rings reverse bias to 2V\n",
    "SMU_I.source_voltage(2)\n",
    "SMU_Q.source_voltage(2)\n",
    "SMU_I.output_on()\n",
    "SMU_Q.output_on()\n",
    "# Set the heaters bias to 0\n",
    "DC_I.source_voltage(0.526)#0.526\n",
    "DC_Q.source_voltage(2.1) #2.1\n",
    "\n",
    "# Set the phaseshift\n",
    "PS.source_voltage(2.3)"
   ]
  },
  {
   "cell_type": "code",
   "execution_count": 98,
   "metadata": {},
   "outputs": [
    {
     "ename": "KeyboardInterrupt",
     "evalue": "",
     "output_type": "error",
     "traceback": [
      "\u001b[1;31m---------------------------------------------------------------------------\u001b[0m",
      "\u001b[1;31mKeyboardInterrupt\u001b[0m                         Traceback (most recent call last)",
      "\u001b[1;32m<ipython-input-98-99b523a7bae0>\u001b[0m in \u001b[0;36m<module>\u001b[1;34m()\u001b[0m\n\u001b[0;32m      2\u001b[0m \u001b[0mI\u001b[0m \u001b[1;33m=\u001b[0m \u001b[1;33m[\u001b[0m\u001b[1;33m]\u001b[0m\u001b[1;33m\u001b[0m\u001b[0m\n\u001b[0;32m      3\u001b[0m \u001b[1;32mfor\u001b[0m \u001b[0mi\u001b[0m \u001b[1;32min\u001b[0m \u001b[0mV\u001b[0m\u001b[1;33m:\u001b[0m\u001b[1;33m\u001b[0m\u001b[0m\n\u001b[1;32m----> 4\u001b[1;33m     \u001b[0mtime\u001b[0m\u001b[1;33m.\u001b[0m\u001b[0msleep\u001b[0m\u001b[1;33m(\u001b[0m\u001b[1;36m1\u001b[0m\u001b[1;33m)\u001b[0m\u001b[1;33m\u001b[0m\u001b[0m\n\u001b[0m\u001b[0;32m      5\u001b[0m     \u001b[0mDC_Q\u001b[0m\u001b[1;33m.\u001b[0m\u001b[0msource_voltage\u001b[0m\u001b[1;33m(\u001b[0m\u001b[0mi\u001b[0m\u001b[1;33m)\u001b[0m\u001b[1;33m\u001b[0m\u001b[0m\n",
      "\u001b[1;31mKeyboardInterrupt\u001b[0m: "
     ]
    }
   ],
   "source": [
    "V = np.linspace(2.1,2.3,20)\n",
    "I = []\n",
    "for i in V:\n",
    "    time.sleep(1)\n",
    "    DC_Q.source_voltage(i)"
   ]
  },
  {
   "cell_type": "code",
   "execution_count": null,
   "metadata": {},
   "outputs": [],
   "source": []
  }
 ],
 "metadata": {
  "kernelspec": {
   "display_name": "Python 2",
   "language": "python",
   "name": "python2"
  },
  "language_info": {
   "codemirror_mode": {
    "name": "ipython",
    "version": 2
   },
   "file_extension": ".py",
   "mimetype": "text/x-python",
   "name": "python",
   "nbconvert_exporter": "python",
   "pygments_lexer": "ipython2",
   "version": "2.7.15"
  }
 },
 "nbformat": 4,
 "nbformat_minor": 2
}
