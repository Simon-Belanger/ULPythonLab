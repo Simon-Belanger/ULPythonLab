{
 "cells": [
  {
   "cell_type": "code",
   "execution_count": 1,
   "metadata": {},
   "outputs": [
    {
     "ename": "NameError",
     "evalue": "name 'source' is not defined",
     "output_type": "error",
     "traceback": [
      "\u001b[1;31m---------------------------------------------------------------------------\u001b[0m",
      "\u001b[1;31mNameError\u001b[0m                                 Traceback (most recent call last)",
      "\u001b[1;32m<ipython-input-1-91c9b684174c>\u001b[0m in \u001b[0;36m<module>\u001b[1;34m()\u001b[0m\n\u001b[0;32m      7\u001b[0m \u001b[1;33m\u001b[0m\u001b[0m\n\u001b[0;32m      8\u001b[0m \u001b[1;31m# Script for a single bias sweep WORKS\u001b[0m\u001b[1;33m\u001b[0m\u001b[1;33m\u001b[0m\u001b[0m\n\u001b[1;32m----> 9\u001b[1;33m def sweep_bias_shape(wvl_start=1540, wvl_stop=1560, wvl_step=0.001, DCsource=source, bias_min=0, bias_max=0.5, bias_points=2, \n\u001b[0m\u001b[0;32m     10\u001b[0m                      dirname = \"\\\\datatest\\\\\"):\n\u001b[0;32m     11\u001b[0m     \u001b[1;34m\"\"\"\"\"\"\u001b[0m\u001b[1;33m\u001b[0m\u001b[0m\n",
      "\u001b[1;31mNameError\u001b[0m: name 'source' is not defined"
     ]
    }
   ],
   "source": [
    "###### the\n",
    "import os\n",
    "import numpy as np\n",
    "import matplotlib.pyplot as plt\n",
    "from matplotlib import cm\n",
    "\n",
    "\n",
    "# Script for a single bias sweep WORKS\n",
    "def sweep_bias_shape(wvl_start=1540, wvl_stop=1560, wvl_step=0.001, DCsource=source, bias_min=0, bias_max=0.5, bias_points=2, \n",
    "                     dirname = \"\\\\datatest\\\\\"):\n",
    "    \"\"\"\"\"\"\n",
    "    \n",
    "    #  Location to save the data\n",
    "    data_dir = os.getcwd() + dirname\n",
    "\n",
    "    # Initialize the DC source\n",
    "    DCsource.connect()\n",
    "    #DCsource.set_range_high()\n",
    "    \n",
    "    # Initialize the laser, connect it and set the sweep params\n",
    "    hp = hp816x_instr.hp816x()\n",
    "    hp.connect('GPIB0::20::INSTR')\n",
    "    hp.sweepUnit = 'dBm'\n",
    "    hp.sweepLaserOutput = 'lowsse' # lowsse ou highpower\n",
    "    hp.sweepStartWvl = wvl_start * 1e-9\n",
    "    hp.sweepStopWvl = wvl_stop * 1e-9\n",
    "    hp.sweepStepWvl = wvl_step * 1e-9\n",
    "    \n",
    "    # Sweep the bias\n",
    "    bias_testpoints = np.linspace(bias_min,bias_max,bias_points).tolist()\n",
    "    for k in bias_testpoints: # For each bias value\n",
    "        DCsource.source_voltage(k)\n",
    "        #time.sleep(0.1)\n",
    "        \n",
    "                \n",
    "        filename = \"V=\" + '{:.3f}'.format(k).replace(\".\",\"_\") + \".txt\"\n",
    "        \n",
    "        # Perform the sweep\n",
    "        wvl_sweep,pow_sweep = hp.sweep()\n",
    "        \n",
    "        # Plot the results\n",
    "        plot_sweep=False\n",
    "        if plot_sweep == True:\n",
    "            \n",
    "            plt.plot(wvl_sweep*1e9,pow_sweep.transpose()[0], label='Detector1')\n",
    "            plt.plot(wvl_sweep*1e9,pow_sweep.transpose()[1], label='Detector2')\n",
    "            plt.xlabel('Wavelength (nm)')\n",
    "            plt.ylabel('Power (dBm)')\n",
    "            plt.legend()\n",
    "            plt.show()\n",
    "        \n",
    "        # Save the results\n",
    "        if not(filename==\"\"):\n",
    "            np.savetxt(data_dir + filename, (wvl_sweep,pow_sweep.transpose()[0],pow_sweep.transpose()[1]))\n",
    "            print(\"Saving file : \" + filename)\n",
    "        # Turn off the laser\n",
    "        hp.setTLSOutput('lowsse', slot=0)\n",
    "        hp.setTLSState('off' , slot=0)\n",
    "        hp.setPWMPowerUnit(2, 0, 'dBm')\n",
    "        hp.setPWMPowerUnit(2, 1, 'dBm')\n",
    "        hp.setPWMPowerRange(2, 0, rangeMode='auto')\n",
    "        hp.setPWMPowerRange(2, 1, rangeMode='auto')\n",
    "    \n",
    "    # Turn DC source Off\n",
    "    DCsource.output_off()\n",
    "    hp.disconnect()"
   ]
  }
 ],
 "metadata": {
  "kernelspec": {
   "display_name": "Python 2",
   "language": "python",
   "name": "python2"
  },
  "language_info": {
   "codemirror_mode": {
    "name": "ipython",
    "version": 2
   },
   "file_extension": ".py",
   "mimetype": "text/x-python",
   "name": "python",
   "nbconvert_exporter": "python",
   "pygments_lexer": "ipython2",
   "version": "2.7.15"
  }
 },
 "nbformat": 4,
 "nbformat_minor": 1
}
