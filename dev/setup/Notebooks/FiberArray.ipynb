{
 "cells": [
  {
   "cell_type": "markdown",
   "metadata": {},
   "source": [
    "When the measured angle is 330 deg, the fiber array is vertical (theta_array = 0).\n",
    "When theta_array = theta_polish, the array's polished surface is parallel to the surface of the chip. This is the maximum angle of incidence you can get in the chip."
   ]
  },
  {
   "cell_type": "code",
   "execution_count": 1,
   "metadata": {},
   "outputs": [],
   "source": [
    "import math\n",
    "\n",
    "class fiber_array(object):\n",
    "    \n",
    "    n_glass = 1.4\n",
    "    n_air = 1.\n",
    "    \n",
    "    def __init__(self, name = \"name\", pol = 'TE', num_IO = 12, theta_offset = 330., theta_polish = 30., pitch = 127):\n",
    "        self.name = name\n",
    "        self.pol = pol\n",
    "        self.num_IO = num_IO\n",
    "        self.theta_offset = theta_offset\n",
    "        self.theta_polish = theta_polish\n",
    "        self.pitch = pitch\n",
    "        \n",
    "        self.theta_refrac = self.theta_refrac()\n",
    "        self.theta_inc_max = self.theta_incidence_max()\n",
    "        \n",
    "    def __repr__(self):\n",
    "        log = \"\"\"Fiber Array object with properties:\n",
    "        name : %s\n",
    "        polarization : %s\n",
    "        number of I/O : %d\n",
    "        pitch : %d um\n",
    "        polish angle : %2.2f deg\n",
    "        refraction angle : %2.2f deg\n",
    "        array offset angle : %3.2f deg\n",
    "        maximum incidence angle : %2.2f deg\n",
    "        \"\"\" % (self.name, self.pol, self.num_IO, self.pitch, self.theta_polish, self.theta_refrac, self.theta_offset, self.theta_inc_max)\n",
    "        return log\n",
    "\n",
    "    def theta_refrac(self):\n",
    "        \"\"\"\"\"\"\n",
    "        theta_refrac = math.degrees(math.asin((self.n_glass/self.n_air) * math.sin(math.radians(self.theta_polish)))) - self.theta_polish\n",
    "        return theta_refrac\n",
    "    \n",
    "    def theta_array(self, theta_incidence):\n",
    "        theta_array = theta_incidence - self.theta_refrac\n",
    "        return theta_array\n",
    "    \n",
    "    def theta_incidence_max(self):\n",
    "        theta_inc_max = self.theta_polish + self.theta_refrac\n",
    "        return theta_inc_max\n",
    "    \n",
    "    def theta_measured(self, theta_incidence):\n",
    "        theta_measured = theta_incidence - self.theta_refrac + self.theta_offset\n",
    "        return round(theta_measured,2)\n",
    "    \n",
    "    def theta_incidence(self, theta_measured):\n",
    "        theta_incidence = theta_measured - self.theta_offset + self.theta_refrac\n",
    "        return theta_incidence"
   ]
  },
  {
   "cell_type": "code",
   "execution_count": 11,
   "metadata": {
    "scrolled": true
   },
   "outputs": [
    {
     "name": "stdout",
     "output_type": "stream",
     "text": [
      "Fiber Array object with properties:\n",
      "        name : Aeponyx_30\n",
      "        polarization : TE\n",
      "        number of I/O : 12\n",
      "        pitch : 127 um\n",
      "        polish angle : 30.00 deg\n",
      "        refraction angle : 14.43 deg\n",
      "        array offset angle : 14.00 deg\n",
      "        maximum incidence angle : 44.43 deg\n",
      "        \n",
      "Incidence angle is 31 deg, measured angle must be: 30.57 deg.\n"
     ]
    }
   ],
   "source": [
    "far = fiber_array(name = \"Aeponyx_30\", num_IO = 12, theta_offset = 14, theta_polish = 30, pitch = 127)\n",
    "print(far)\n",
    "\n",
    "print(\"Incidence angle is 31 deg, measured angle must be: \" + str(far.theta_measured(31)) + \" deg.\")\n"
   ]
  },
  {
   "cell_type": "code",
   "execution_count": 8,
   "metadata": {},
   "outputs": [
    {
     "name": "stdout",
     "output_type": "stream",
     "text": [
      "Fiber Array object with properties:\n",
      "        name : Aeponyx_24\n",
      "        polarization : TE\n",
      "        number of I/O : 12\n",
      "        pitch : 127 um\n",
      "        polish angle : 25.00 deg\n",
      "        refraction angle : 11.28 deg\n",
      "        array offset angle : 14.00 deg\n",
      "        maximum incidence angle : 36.28 deg\n",
      "        \n",
      "Incidence angle is 31 deg, measured angle must be: 33.72 deg.\n"
     ]
    }
   ],
   "source": [
    "far = fiber_array(name = \"Aeponyx_24\", num_IO = 12, theta_offset = 14, theta_polish = 25, pitch = 127)\n",
    "print(far)\n",
    "\n",
    "print(\"Incidence angle is 31 deg, measured angle must be: \" + str(far.theta_measured(31)) + \" deg.\")\n"
   ]
  },
  {
   "cell_type": "code",
   "execution_count": null,
   "metadata": {
    "collapsed": true
   },
   "outputs": [],
   "source": []
  }
 ],
 "metadata": {
  "kernelspec": {
   "display_name": "Python 3",
   "language": "python",
   "name": "python3"
  },
  "language_info": {
   "codemirror_mode": {
    "name": "ipython",
    "version": 3
   },
   "file_extension": ".py",
   "mimetype": "text/x-python",
   "name": "python",
   "nbconvert_exporter": "python",
   "pygments_lexer": "ipython3",
   "version": "3.7.3"
  }
 },
 "nbformat": 4,
 "nbformat_minor": 1
}
