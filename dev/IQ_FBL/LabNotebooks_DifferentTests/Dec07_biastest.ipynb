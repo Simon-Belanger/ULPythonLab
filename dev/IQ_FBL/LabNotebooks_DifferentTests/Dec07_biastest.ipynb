{
 "cells": [
  {
   "cell_type": "code",
   "execution_count": 14,
   "metadata": {},
   "outputs": [],
   "source": [
    "\n",
    "from Instruments.Keithley_2612B import Keithley_2612B\n",
    "\n",
    "# DC sources objects\n",
    "SMU_ring1 = Keithley_2612B(25, 'a')\n",
    "SMU_ring2 = Keithley_2612B(25, 'b')\n",
    "\n",
    "SMU_ring1.connect()\n",
    "SMU_ring2.connect()"
   ]
  },
  {
   "cell_type": "code",
   "execution_count": 26,
   "metadata": {},
   "outputs": [
    {
     "ename": "NameError",
     "evalue": "name 'SMU_ring1' is not defined",
     "output_type": "error",
     "traceback": [
      "\u001b[1;31m---------------------------------------------------------------------------\u001b[0m",
      "\u001b[1;31mNameError\u001b[0m                                 Traceback (most recent call last)",
      "\u001b[1;32m<ipython-input-26-2bd66273df86>\u001b[0m in \u001b[0;36m<module>\u001b[1;34m()\u001b[0m\n\u001b[1;32m----> 1\u001b[1;33m \u001b[0mSMU_ring1\u001b[0m\u001b[1;33m.\u001b[0m\u001b[0moutput_off\u001b[0m\u001b[1;33m(\u001b[0m\u001b[1;33m)\u001b[0m\u001b[1;33m\u001b[0m\u001b[0m\n\u001b[0m\u001b[0;32m      2\u001b[0m \u001b[0mSMU_ring2\u001b[0m\u001b[1;33m.\u001b[0m\u001b[0moutput_off\u001b[0m\u001b[1;33m(\u001b[0m\u001b[1;33m)\u001b[0m\u001b[1;33m\u001b[0m\u001b[0m\n",
      "\u001b[1;31mNameError\u001b[0m: name 'SMU_ring1' is not defined"
     ]
    }
   ],
   "source": [
    "SMU_ring1.output_off()\n",
    "SMU_ring2.output_off()"
   ]
  },
  {
   "cell_type": "code",
   "execution_count": 3,
   "metadata": {},
   "outputs": [
    {
     "ename": "ImportError",
     "evalue": "No module named Instruments.hp816x_instr",
     "output_type": "error",
     "traceback": [
      "\u001b[1;31m---------------------------------------------------------------------------\u001b[0m",
      "\u001b[1;31mImportError\u001b[0m                               Traceback (most recent call last)",
      "\u001b[1;32m<ipython-input-3-4c3f2d5e4eeb>\u001b[0m in \u001b[0;36m<module>\u001b[1;34m()\u001b[0m\n\u001b[1;32m----> 1\u001b[1;33m \u001b[1;32mfrom\u001b[0m \u001b[0mInstruments\u001b[0m\u001b[1;33m.\u001b[0m\u001b[0mhp816x_instr\u001b[0m \u001b[1;32mimport\u001b[0m \u001b[0mhp816x\u001b[0m\u001b[1;33m\u001b[0m\u001b[0m\n\u001b[0m\u001b[0;32m      2\u001b[0m \u001b[1;32mimport\u001b[0m \u001b[0mos\u001b[0m\u001b[1;33m\u001b[0m\u001b[0m\n\u001b[0;32m      3\u001b[0m \u001b[1;32mimport\u001b[0m \u001b[0msys\u001b[0m\u001b[1;33m\u001b[0m\u001b[0m\n\u001b[0;32m      4\u001b[0m \u001b[1;32mimport\u001b[0m \u001b[0mmatplotlib\u001b[0m\u001b[1;33m.\u001b[0m\u001b[0mpyplot\u001b[0m \u001b[1;32mas\u001b[0m \u001b[0mplt\u001b[0m\u001b[1;33m\u001b[0m\u001b[0m\n\u001b[0;32m      5\u001b[0m \u001b[1;32mimport\u001b[0m \u001b[0mnumpy\u001b[0m \u001b[1;32mas\u001b[0m \u001b[0mnp\u001b[0m\u001b[1;33m\u001b[0m\u001b[0m\n",
      "\u001b[1;31mImportError\u001b[0m: No module named Instruments.hp816x_instr"
     ]
    }
   ],
   "source": [
    "from Instruments.hp816x_instr import hp816x\n",
    "import os\n",
    "import sys\n",
    "import matplotlib.pyplot as plt\n",
    "import numpy as np\n",
    "\n",
    "class sweepobj(object):\n",
    "    \n",
    "    def __init__(self,LMS, data_dir=os.getcwd()):\n",
    "        self.LMS = LMS      \n",
    "        self.data_dir = data_dir\n",
    "        print(self.data_dir)   \n",
    "        \n",
    "    def setup_LMS(self):\n",
    "        \"\"\"Setup the Lightwave Measurement System for use.\"\"\"\n",
    "        self.LMS.setAutorangeAll()\n",
    "    \n",
    "    def wvl_sweep(self, wvl_start=1540, wvl_stop=1570, wvl_step=0.02, plot = True, filename=None):\n",
    "        \"\"\"Perform a wavelength sweep over the specified range.\"\"\"\n",
    "        \n",
    "        # Init Instrument\n",
    "        self.LMS.sweepUnit = 'dBm'\n",
    "        self.LMS.sweepLaserOutput = 'highpower' # lowsse ou highpower\n",
    "        self.LMS.sweepStartWvl = wvl_start * 1e-9\n",
    "        self.LMS.sweepStopWvl = wvl_stop * 1e-9\n",
    "        self.LMS.sweepStepWvl = wvl_step * 1e-9\n",
    "        self.LMS.sweepInitialRange = 0\n",
    "        self.LMS.sweepRangeDecrement = 20\n",
    "        self.LMS.setPWMPowerUnit(2, 0, 'dBm')\n",
    "\n",
    "        #Sweep\n",
    "        wvl_sweep,pow_sweep = self.LMS.sweep()\n",
    "\n",
    "        # Turn off the laser\n",
    "        self.setup_LMS()\n",
    "        \n",
    "        # Plot the results\n",
    "        f = plt.figure()\n",
    "        if plot == True:\n",
    "            plt.plot(wvl_sweep*1e9,pow_sweep.transpose()[0])\n",
    "        if plot:\n",
    "            plt.xlabel('Wavelength (nm)')\n",
    "            plt.ylabel('Power (dBm)')\n",
    "            plt.legend(bbox_to_anchor=(1.05, 1), loc=2, borderaxespad=0.)\n",
    "            plt.show()\n",
    "        \n",
    "        # Save the results\n",
    "        if filename == None:\n",
    "            filename = raw_input(\"Enter the name of the file:\")\n",
    "        if not(filename==\"\"):\n",
    "            complete_name = self.data_dir + '\\\\' + filename \n",
    "            np.savetxt(complete_name + \".txt\", (wvl_sweep,pow_sweep.transpose()[0]))\n",
    "            f.savefig(complete_name + \".pdf\")\n",
    "            \n",
    "            \n",
    "LMS = hp816x()\n",
    "if LMS.connected == True:\n",
    "    LMS.disconnect()\n",
    "else:\n",
    "    LMS.connect('GPIB0::20::INSTR')\n",
    "\n",
    "so = sweepobj(LMS, 'C:\\Users\\Lab\\Documents\\MRM_QAM\\Data\\dec7')\n",
    "so.wvl_sweep(1545,1555,0.02)\n",
    "\n",
    "LMS.disconnect()"
   ]
  },
  {
   "cell_type": "code",
   "execution_count": 2,
   "metadata": {},
   "outputs": [
    {
     "name": "stdout",
     "output_type": "stream",
     "text": [
      "The mainframe is: HP8164A\n",
      "Connected to the laser\n"
     ]
    }
   ],
   "source": [
    "    # Initialize the laser, connect it and set the sweep params\n",
    "\n",
    "from Instruments.hp816x_instr import hp816x\n",
    "import os\n",
    "import sys    \n",
    "    \n",
    "hp = hp816x()\n",
    "#hp.disconnect()\n",
    "hp.connect('GPIB0::20::INSTR')\n",
    "#hp.sweep()"
   ]
  },
  {
   "cell_type": "code",
   "execution_count": 3,
   "metadata": {},
   "outputs": [
    {
     "data": {
      "text/plain": [
       "-100"
      ]
     },
     "execution_count": 3,
     "metadata": {},
     "output_type": "execute_result"
    }
   ],
   "source": [
    "hp.readPWM(2,0)"
   ]
  },
  {
   "cell_type": "code",
   "execution_count": null,
   "metadata": {},
   "outputs": [],
   "source": []
  }
 ],
 "metadata": {
  "kernelspec": {
   "display_name": "Python 2",
   "language": "python",
   "name": "python2"
  },
  "language_info": {
   "codemirror_mode": {
    "name": "ipython",
    "version": 2
   },
   "file_extension": ".py",
   "mimetype": "text/x-python",
   "name": "python",
   "nbconvert_exporter": "python",
   "pygments_lexer": "ipython2",
   "version": "2.7.15"
  }
 },
 "nbformat": 4,
 "nbformat_minor": 2
}
