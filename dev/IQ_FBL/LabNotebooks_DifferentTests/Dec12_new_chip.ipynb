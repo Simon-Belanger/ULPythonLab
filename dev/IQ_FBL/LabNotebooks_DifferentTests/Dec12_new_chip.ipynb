{
 "cells": [
  {
   "cell_type": "code",
   "execution_count": 2,
   "metadata": {},
   "outputs": [],
   "source": [
    "import numpy as np\n",
    "from Instruments.Keithley_2612B import Keithley_2612B\n",
    "from Instruments.Agilent_E3631A import Agilent_E3631A \n",
    "import time\n",
    "import matplotlib.pyplot as plt\n",
    "\n",
    "PS = Agilent_E3631A(5, 'p6')\n",
    "PS.connect()"
   ]
  },
  {
   "cell_type": "code",
   "execution_count": 2,
   "metadata": {},
   "outputs": [
    {
     "name": "stdout",
     "output_type": "stream",
     "text": [
      "The mainframe is: HP8164A\n",
      "Connected to the laser\n"
     ]
    }
   ],
   "source": [
    "from Instruments.hp816x_instr import hp816x\n",
    "import os\n",
    "import sys  \n",
    "\n",
    "hp = hp816x()\n",
    "#hp.disconnect()\n",
    "hp.connect('GPIB0::20::INSTR')\n",
    "#hp.sweep()\n",
    "hp.setAutorangeAll()"
   ]
  },
  {
   "cell_type": "code",
   "execution_count": 2,
   "metadata": {},
   "outputs": [],
   "source": [
    "from Instruments.hp816x_instr import hp816x\n",
    "import os\n",
    "import sys\n",
    "import matplotlib.pyplot as plt\n",
    "import numpy as np\n",
    "\n",
    "class sweepobj(object):\n",
    "    \n",
    "    def __init__(self,LMS, data_dir=os.getcwd()):\n",
    "        self.LMS = LMS      \n",
    "        self.data_dir = data_dir\n",
    "        print(self.data_dir)   \n",
    "        \n",
    "    def setup_LMS(self):\n",
    "        \"\"\"Setup the Lightwave Measurement System for use.\"\"\"\n",
    "        self.LMS.setAutorangeAll()\n",
    "    \n",
    "    def wvl_sweep(self, wvl_start=1540, wvl_stop=1570, wvl_step=0.02, plot = True, filename=None):\n",
    "        \"\"\"Perform a wavelength sweep over the specified range.\"\"\"\n",
    "        \n",
    "        # Init Instrument\n",
    "        self.LMS.sweepUnit = 'dBm'\n",
    "        self.LMS.sweepLaserOutput = 'highpower' # lowsse ou highpower\n",
    "        self.LMS.sweepStartWvl = wvl_start * 1e-9\n",
    "        self.LMS.sweepStopWvl = wvl_stop * 1e-9\n",
    "        self.LMS.sweepStepWvl = wvl_step * 1e-9\n",
    "        self.LMS.sweepInitialRange = 0\n",
    "        self.LMS.sweepRangeDecrement = 20\n",
    "        self.LMS.setPWMPowerUnit(2, 0, 'dBm')\n",
    "\n",
    "        #Sweep\n",
    "        wvl_sweep,pow_sweep = self.LMS.sweep()\n",
    "\n",
    "        # Turn off the laser\n",
    "        self.setup_LMS()\n",
    "        \n",
    "        # Plot the results\n",
    "        f = plt.figure()\n",
    "        if plot == True:\n",
    "            plt.plot(wvl_sweep*1e9,pow_sweep.transpose()[0])\n",
    "        if plot:\n",
    "            plt.xlabel('Wavelength (nm)')\n",
    "            plt.ylabel('Power (dBm)')\n",
    "            plt.legend(bbox_to_anchor=(1.05, 1), loc=2, borderaxespad=0.)\n",
    "            plt.show()\n",
    "        \n",
    "        # Save the results\n",
    "        if filename == None:\n",
    "            filename = raw_input(\"Enter the name of the file:\")\n",
    "        if not(filename==\"\"):\n",
    "            complete_name = self.data_dir + '\\\\' + filename \n",
    "            np.savetxt(complete_name + \".txt\", (wvl_sweep,pow_sweep.transpose()[0]))\n",
    "            f.savefig(complete_name + \".pdf\")"
   ]
  },
  {
   "cell_type": "code",
   "execution_count": null,
   "metadata": {},
   "outputs": [],
   "source": [
    "LMS = hp816x()\n",
    "if LMS.connected == True:\n",
    "    LMS.disconnect()\n",
    "else:\n",
    "    LMS.connect('GPIB0::20::INSTR')\n",
    "\n",
    "so = sweepobj(LMS, 'C:\\Users\\Lab\\Documents\\MRM_QAM\\Data\\dec7')\n",
    "so.wvl_sweep(1540,1552,0.1)\n",
    "\n",
    "LMS.disconnect()"
   ]
  },
  {
   "cell_type": "code",
   "execution_count": 8,
   "metadata": {},
   "outputs": [],
   "source": [
    "PS.source_voltage(1.4)\n"
   ]
  },
  {
   "cell_type": "code",
   "execution_count": 9,
   "metadata": {},
   "outputs": [],
   "source": [
    "import numpy as np\n",
    "from Instruments.Keithley_2612B import Keithley_2612B\n",
    "from Instruments.Agilent_E3631A import Agilent_E3631A \n",
    "import time\n",
    "import matplotlib.pyplot as plt\n",
    "\n",
    "# DC sources objects\n",
    "SMU_I = Keithley_2612B(0, 25, 'a')\n",
    "SMU_Q = Keithley_2612B(0, 25, 'b')\n",
    "\n",
    "# DC objects\n",
    "#DC_I = Agilent_E3631A(1, '6')\n",
    "#DC_Q = Agilent_E3631A(5, '6')\n",
    "\n",
    "DC_I = Keithley_2612B(1, 26, 'a')\n",
    "DC_Q = Keithley_2612B(1, 26, 'b')\n",
    "\n",
    "PS = Agilent_E3631A(5, 'p6')\n",
    "\n",
    "SMU_I.connect()\n",
    "SMU_Q.connect()\n",
    "DC_I.connect()\n",
    "DC_Q.connect()\n",
    "PS.connect()"
   ]
  },
  {
   "cell_type": "code",
   "execution_count": 14,
   "metadata": {},
   "outputs": [],
   "source": [
    "# TUning to 1556.2 (Real)\n",
    "\n",
    "# Set the rings reverse bias to 2V\n",
    "SMU_I.source_voltage(0)\n",
    "SMU_Q.source_voltage(0)\n",
    "SMU_I.output_on()\n",
    "SMU_Q.output_on()\n",
    "# Set the heaters bias to 0\n",
    "DC_I.source_voltage(0)#1.96v to align on the notch\n",
    "DC_Q.source_voltage(4) ## Away from the carrier 4V\n",
    "DC_I.output_on()\n",
    "DC_Q.output_on()\n",
    "\n",
    "# Set the phaseshift\n",
    "PS.source_voltage(1.4)"
   ]
  },
  {
   "cell_type": "code",
   "execution_count": null,
   "metadata": {},
   "outputs": [],
   "source": []
  }
 ],
 "metadata": {
  "kernelspec": {
   "display_name": "Python 2",
   "language": "python",
   "name": "python2"
  },
  "language_info": {
   "codemirror_mode": {
    "name": "ipython",
    "version": 2
   },
   "file_extension": ".py",
   "mimetype": "text/x-python",
   "name": "python",
   "nbconvert_exporter": "python",
   "pygments_lexer": "ipython2",
   "version": "2.7.15"
  }
 },
 "nbformat": 4,
 "nbformat_minor": 2
}
