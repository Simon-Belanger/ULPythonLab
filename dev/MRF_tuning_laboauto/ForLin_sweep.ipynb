{
 "cells": [
  {
   "cell_type": "code",
   "execution_count": null,
   "metadata": {
    "collapsed": true
   },
   "outputs": [],
   "source": [
    "from Instruments import *\n",
    "import matplotlib.pyplot as plt\n",
    "import numpy as np\n",
    "%matplotlib inline\n",
    "\n",
    "def wvl_sweep(data_dir, wvl_start=1540, wvl_stop=1570, wvl_step=0.02, plot_det1 = True, plot_det2 = True, filename=None):\n",
    "        \"\"\"Perform a wavelength sweep over the specified range.\"\"\"\n",
    "        \n",
    "        LMS = hp816x_instr.hp816x()\n",
    "        \n",
    "        LMS.connect('GPIB0::20::INSTR')\n",
    "    \n",
    "        # Init Instrument\n",
    "        LMS.sweepUnit = 'dBm'\n",
    "        LMS.sweepLaserOutput = 'lowsse' # lowsse ou highpower\n",
    "        LMS.sweepStartWvl = wvl_start * 1e-9\n",
    "        LMS.sweepStopWvl = wvl_stop * 1e-9\n",
    "        LMS.sweepStepWvl = wvl_step * 1e-9\n",
    "        LMS.sweepInitialRange = -20\n",
    "        LMS.sweepRangeDecrement = 20\n",
    "        LMS.setPWMPowerUnit(2, 0, 'dBm')\n",
    "        LMS.setPWMPowerUnit(2, 1, 'dBm')\n",
    "\n",
    "        #Sweep\n",
    "        wvl_sweep,pow_sweep = LMS.sweep()\n",
    "\n",
    "        # Turn off the laser\n",
    "        LMS.setTLSOutput('lowsse')\n",
    "        LMS.setPWMPowerUnit(2, 0, 'dBm')\n",
    "        LMS.setPWMPowerUnit(2, 1, 'dBm')\n",
    "        LMS.setPWMPowerRange(2, 0, rangeMode='auto')\n",
    "        LMS.setPWMPowerRange(2, 1, rangeMode='auto')\n",
    "        \n",
    "        # Plot the results\n",
    "        f = plt.figure()\n",
    "        if plot_det1 == True:\n",
    "            plt.plot(wvl_sweep*1e9,pow_sweep.transpose()[0], label='Detector1')\n",
    "        if plot_det2 == True:\n",
    "            plt.plot(wvl_sweep*1e9,pow_sweep.transpose()[1], label='Detector2')\n",
    "        if plot_det1 or plot_det2:\n",
    "            plt.xlabel('Wavelength (nm)')\n",
    "            plt.ylabel('Power (dBm)')\n",
    "            plt.legend(bbox_to_anchor=(1.05, 1), loc=2, borderaxespad=0.)\n",
    "            plt.show()\n",
    "        \n",
    "        # Save the results\n",
    "        if filename == None:\n",
    "            filename = raw_input(\"Enter the name of the file:\")\n",
    "        if not(filename==\"\"):\n",
    "            complete_name = data_dir + filename + '_' + str(wvl_start).replace('.',',') +'_' + str(wvl_stop).replace('.',',') + '_' + str(wvl_step).replace('.',',') \n",
    "            np.savetxt(complete_name + \".txt\", (wvl_sweep,pow_sweep.transpose()[0],pow_sweep.transpose()[1]))\n",
    "            f.savefig(complete_name + \".pdf\")"
   ]
  },
  {
   "cell_type": "code",
   "execution_count": null,
   "metadata": {
    "collapsed": false
   },
   "outputs": [],
   "source": [
    "import os\n",
    "\n",
    "data_dir = os.getcwd() + \"\\\\Lin_data\\\\\"\n",
    "\n",
    "wvl_sweep(data_dir, wvl_start=1540, wvl_stop=1570, wvl_step=0.02, plot_det1 = True, plot_det2 = True, filename=None)\n"
   ]
  },
  {
   "cell_type": "code",
   "execution_count": null,
   "metadata": {
    "collapsed": true
   },
   "outputs": [],
   "source": []
  }
 ],
 "metadata": {
  "kernelspec": {
   "display_name": "Python 2",
   "language": "python",
   "name": "python2"
  },
  "language_info": {
   "codemirror_mode": {
    "name": "ipython",
    "version": 2
   },
   "file_extension": ".py",
   "mimetype": "text/x-python",
   "name": "python",
   "nbconvert_exporter": "python",
   "pygments_lexer": "ipython2",
   "version": "2.7.11"
  }
 },
 "nbformat": 4,
 "nbformat_minor": 0
}
