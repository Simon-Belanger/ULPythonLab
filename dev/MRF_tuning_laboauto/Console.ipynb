{
 "cells": [
  {
   "cell_type": "markdown",
   "metadata": {},
   "source": [
    "## Optimisation code\n",
    "\n",
    "This script generates a microring filter (MRF) object made of a PD and 5 DC Sources. This device is then manipulated by the Coordinates Descent Algorithm to tune it."
   ]
  },
  {
   "cell_type": "code",
   "execution_count": 22,
   "metadata": {
    "collapsed": false
   },
   "outputs": [
    {
     "name": "stdout",
     "output_type": "stream",
     "text": [
      "C:\\MRF_tuning\\datatest\\V3_part2\\\n",
      "Disconnected from the laser\n",
      "The mainframe is: HP8164A\n",
      "Connected to the laser\n"
     ]
    }
   ],
   "source": [
    "# Load Modules\n",
    "from Instruments import *\n",
    "from methods.Algo import *\n",
    "from methods.MRF import RealMRF\n",
    "import os\n",
    "%matplotlib inline\n",
    "\n",
    "# Lightwave Measurement System\n",
    "LMS = hp816x_instr.hp816x()\n",
    "\n",
    "# DC Sources\n",
    "V1 = Agilent_E3646A(6,1)\n",
    "V2 = Keithley_2612B(26,'a')\n",
    "V3 = Keithley_2612B(26,'b')\n",
    "V4 = Keithley_2612B(25,'a')\n",
    "V5 = Keithley_2612B(25,'b')\n",
    "\n",
    "# Directory to store data\n",
    "data_dir = os.getcwd() + \"\\\\datatest\\\\V3_part2\\\\\"\n",
    "\n",
    "# Create the MRF object an|d connect to instruments\n",
    "instruments = {'LMS': LMS,\n",
    "             'DCsources': [V1, V2, V3, V4, V5],\n",
    "             'LowerLimitDC': [0]*5,\n",
    "             'UpperLimitDC': [3]*5}\n",
    "mrf = RealMRF(instruments, 2,0.0001, data_dir)\n",
    "mrf.connect_instruments()\n",
    "mrf.DC_off()\n"
   ]
  },
  {
   "cell_type": "markdown",
   "metadata": {},
   "source": [
    "# Test the averaging of the power"
   ]
  },
  {
   "cell_type": "code",
   "execution_count": null,
   "metadata": {
    "collapsed": false
   },
   "outputs": [],
   "source": [
    "mrf.wvl_sweep(1530, 1560, 0.05)"
   ]
  },
  {
   "cell_type": "code",
   "execution_count": null,
   "metadata": {
    "collapsed": false,
    "scrolled": true
   },
   "outputs": [],
   "source": [
    "mrf.LMS.setTLSWavelength(1538*1e-9)\n",
    "x_i, f_i = CoordsDescent(mrf, 5, delay=0., mode='max', plotPowMat=True) # mode : manual, max, min\n",
    "plotconvergence(f_i)\n",
    "mrf.wvl_sweep(1530, 1560, 0.05)\n",
    "print(mrf.applied_bias)"
   ]
  },
  {
   "cell_type": "code",
   "execution_count": null,
   "metadata": {
    "collapsed": false
   },
   "outputs": [],
   "source": [
    "print(mrf.applied_bias)"
   ]
  },
  {
   "cell_type": "markdown",
   "metadata": {},
   "source": [
    "Set the bias for each heater and then peform a wavelength sweep."
   ]
  },
  {
   "cell_type": "code",
   "execution_count": null,
   "metadata": {
    "collapsed": false
   },
   "outputs": [],
   "source": [
    "mrf.apply_bias_mult([2.01, 2.3686, 1.67219, 2.3907, 2.2592])\n",
    "mrf.wvl_sweep(1530, 1560, 0.05)"
   ]
  },
  {
   "cell_type": "code",
   "execution_count": null,
   "metadata": {
    "collapsed": false
   },
   "outputs": [],
   "source": [
    "mrf.LMS.setTLSWavelength(1538*1e-9)\n",
    "mrf.average_power(2.)\n",
    "NelderMead(mrf, [1.24, 1.3594, 1.13407, 1.24164, 1.22108], 'max')\n",
    "mrf.wvl_sweep(1530, 1560, 0.02)"
   ]
  },
  {
   "cell_type": "code",
   "execution_count": null,
   "metadata": {
    "collapsed": false
   },
   "outputs": [],
   "source": [
    "print(mrf.applied_bias)"
   ]
  },
  {
   "cell_type": "markdown",
   "metadata": {},
   "source": [
    "## Sweep Voltage and perform a wavelength sweep\n",
    "\n",
    "This script is used to perform a bias sweep. For every bias point, a wavelength sweep is performed."
   ]
  },
  {
   "cell_type": "code",
   "execution_count": null,
   "metadata": {
    "collapsed": false
   },
   "outputs": [],
   "source": [
    "import os\n",
    "import numpy as np\n",
    "import matplotlib.pyplot as plt\n",
    "from matplotlib import cm\n",
    "\n",
    "\n",
    "# Script for a single bias sweep WORKS\n",
    "def sweep_bias_shape(wvl_start=1540, wvl_stop=1560, wvl_step=0.001, DCsource=None, bias_min=0, bias_max=0.5, bias_points=2, \n",
    "                     dirname = \"\\\\datatest\\\\\"):\n",
    "    \"\"\"\"\"\"\n",
    "    \n",
    "    #  Location to save the data\n",
    "    data_dir = os.getcwd() + dirname\n",
    "    \n",
    "    # Table of content with file names\n",
    "    toc = open(data_dir + \"toc_data.txt\",\"w+\")\n",
    "\n",
    "    # Initialize the DC source\n",
    "    DCsource.connect()\n",
    "    #DCsource.set_range_high()\n",
    "    \n",
    "    # Initialize the laser, connect it and set the sweep params\n",
    "    hp = hp816x_instr.hp816x()\n",
    "    hp.connect('GPIB0::20::INSTR')\n",
    "    hp.sweepUnit = 'dBm'\n",
    "    hp.sweepLaserOutput = 'lowsse' # lowsse ou highpower\n",
    "    hp.sweepStartWvl = wvl_start * 1e-9\n",
    "    hp.sweepStopWvl = wvl_stop * 1e-9\n",
    "    hp.sweepStepWvl = wvl_step * 1e-9\n",
    "    \n",
    "    # Sweep the bias\n",
    "    bias_testpoints = np.linspace(bias_min,bias_max,bias_points).tolist()\n",
    "    for k in bias_testpoints: # For each bias value\n",
    "\n",
    "        DCsource.source_voltage(k)\n",
    "        #time.sleep(0.1)\n",
    "        \n",
    "        # Set the filename and add it to thew table of contents        \n",
    "        filename = \"V=\" + '{:.3f}'.format(k).replace(\".\",\"_\") + \".txt\"\n",
    "        toc.write(filename+'\\n') # Could make sure adding an existing file is not possible\n",
    "        \n",
    "        # Perform the sweep\n",
    "        wvl_sweep,pow_sweep = hp.sweep()\n",
    "        \n",
    "        # Plot the results\n",
    "        plot_sweep=False\n",
    "        if plot_sweep == True:\n",
    "            \n",
    "            plt.plot(wvl_sweep*1e9,pow_sweep.transpose()[0], label='Detector1')\n",
    "            plt.plot(wvl_sweep*1e9,pow_sweep.transpose()[1], label='Detector2')\n",
    "            plt.xlabel('Wavelength (nm)')\n",
    "            plt.ylabel('Power (dBm)')\n",
    "            plt.legend()\n",
    "            plt.show()\n",
    "        \n",
    "        # Save the results\n",
    "        if not(filename==\"\"):\n",
    "            np.savetxt(data_dir + filename, (wvl_sweep,pow_sweep.transpose()[0],pow_sweep.transpose()[1]))\n",
    "            print(\"Saving file : \" + filename)\n",
    "        # Turn off the laser\n",
    "        hp.setTLSOutput('lowsse', slot=0)\n",
    "        hp.setTLSState('off' , slot=0)\n",
    "        hp.setPWMPowerUnit(2, 0, 'dBm')\n",
    "        hp.setPWMPowerUnit(2, 1, 'dBm')\n",
    "        hp.setPWMPowerRange(2, 0, rangeMode='auto')\n",
    "        hp.setPWMPowerRange(2, 1, rangeMode='auto')\n",
    "    \n",
    "    # Turn DC source Off\n",
    "    DCsource.output_off()\n",
    "    hp.disconnect()\n",
    "    \n",
    "    # Close the table of content file\n",
    "    toc.close()\n",
    "    \n",
    "def load_and_plot(filename,color):\n",
    "    \"\"\"\n",
    "    Load the wavelength sweep data in a specific file.\n",
    "    \"\"\"\n",
    "    \n",
    "    A,B,C = np.loadtxt(filename, dtype=float)\n",
    "\n",
    "    plt.plot(A*1e9,B, label='Detector1',color=color)\n",
    "    plt.plot(A*1e9,C, label='Detector2',color=color)\n",
    "    plt.xlabel('Wavelength (nm)')\n",
    "    plt.ylabel('Power (dBm)')\n",
    "\n",
    "def multiplot(directory):\n",
    "    \"\"\"\n",
    "    Sweep the table of content stored along the data and plot all the bias sweep data..\n",
    "    \"\"\"\n",
    "    \n",
    "    data_dir = os.getcwd() + directory\n",
    "    \n",
    "    # Open the table of content\n",
    "    toc = open(data_dir + \"toc_data.txt\")\n",
    "    datafile_list = toc.read().split(\"\\n\")[:-1]\n",
    "    \n",
    "    cmap = cm.get_cmap('jet')\n",
    "    compt = 0.\n",
    "    for datafile in datafile_list: # For each bias value  \n",
    "        load_and_plot(data_dir + datafile,cmap(compt/(len(datafile_list)-1)))\n",
    "        compt += 1\n",
    "    ax = plt.gca()\n",
    "    ax.get_xaxis().get_major_formatter().set_useOffset(False)\n",
    "    plt.show()\n",
    "    \n",
    "    # Close the table of content\n",
    "    toc.close()"
   ]
  },
  {
   "cell_type": "code",
   "execution_count": null,
   "metadata": {
    "collapsed": false,
    "scrolled": false
   },
   "outputs": [],
   "source": [
    "from Instruments import *\n",
    "\n",
    "sweep_bias_shape(wvl_start=1515, wvl_stop=1560, wvl_step=0.05, DCsource=V1, bias_min=0, bias_max=2, bias_points=2, \n",
    "                     dirname = \"\\\\datatest\\\\V1\\\\V1\")\n",
    "\n",
    "#source.output_off()\n",
    "\n",
    "multiplot(\"\\\\datatest\\\\V1\\\\V1\")"
   ]
  },
  {
   "cell_type": "code",
   "execution_count": null,
   "metadata": {
    "collapsed": false
   },
   "outputs": [],
   "source": [
    "multiplot(\"\\\\datatest\\\\\")"
   ]
  },
  {
   "cell_type": "markdown",
   "metadata": {},
   "source": [
    "## Tune the filter to specific central wavelengths, measure the transmission spectrum for each central wavelength"
   ]
  },
  {
   "cell_type": "code",
   "execution_count": null,
   "metadata": {
    "collapsed": true
   },
   "outputs": [],
   "source": [
    "import os\n",
    "import numpy as np\n",
    "import matplotlib.pyplot as plt\n",
    "from matplotlib import cm\n",
    "\n",
    "\n",
    "# Script for a single bias sweep WORKS\n",
    "def sweep_central_wavelength(MRF, sweep_params=[1540,1570,0.02], filter_wavelengths=[1555,1565,1], dirname = \"\\\\datatest\\\\\"):\n",
    "    \"\"\"\n",
    "    \n",
    "    Args:\n",
    "        MRF (MRF): Microring Filter Object.\n",
    "        sweep_params (list): 3x1 List containing sweep parameters e.g. [wvl_start, wvl_stop, wvl_step].\n",
    "        filter_wavelengths (list): 3x1 List containing tuning parameters e.g. [wvl_start, wvl_stop, N points]\n",
    "        \n",
    "    Returns:\n",
    "    \n",
    "    \"\"\"\n",
    "    \n",
    "    #  Location to save the data\n",
    "    data_dir = os.getcwd() + dirname\n",
    "    \n",
    "    # Table of content with file names\n",
    "    toc = open(data_dir + \"toc_data.txt\",\"w+\")\n",
    "    \n",
    "    # Table of content with file names\n",
    "    lut = open(data_dir + \"lut_data.txt\",\"w+\")\n",
    "    lut.write('wvl/V1/V2/V3/V4/V5\\n')\n",
    "\n",
    "    # Sweep the central wavelength\n",
    "    tuning_testpoints = np.linspace(filter_wavelengths[0],filter_wavelengths[1],filter_wavelengths[2]).tolist()\n",
    "    for k in tuning_testpoints: # For each bias value\n",
    "        \n",
    "        # Tune the MRF object to the target central wavelength\n",
    "        #tuning = tuneMRF(mrf, k, 0.1, 'Drop')\n",
    "        tuneMRF(mrf, k, 0.1, 'Drop')  \n",
    "        \n",
    "        # Set the filename and add it to thew table of contents        \n",
    "        filename = \"c_wvl=\" + '{:.3f}'.format(k).replace(\".\",\"_\") + \".txt\"\n",
    "        toc.write(filename+'\\n') # Could make sure adding an existing file is not possible\n",
    "        \n",
    "        # Store the tuning to a lookup table\n",
    "        #lut.write('{:.3f}/{:.3f}/{:.3f}/{:.3f}/{:.3f}/{:.3f}\\n'.format(k,*tuning))\n",
    "        \n",
    "        # Perform the sweep\n",
    "        MRF.wvl_sweep(sweep_params[0], sweep_params[1], sweep_params[2])\n",
    "    \n",
    "    # Close the table of content and the lookup table\n",
    "    toc.close()\n",
    "    lut.close()"
   ]
  },
  {
   "cell_type": "code",
   "execution_count": null,
   "metadata": {
    "collapsed": false
   },
   "outputs": [],
   "source": [
    "sweep_central_wavelength(mrf, sweep_params=[1532,1555,0.05], filter_wavelengths=[1535,1540,3], dirname = \"\\\\datatest\\\\\")"
   ]
  },
  {
   "cell_type": "code",
   "execution_count": null,
   "metadata": {
    "collapsed": true
   },
   "outputs": [],
   "source": []
  }
 ],
 "metadata": {
  "kernelspec": {
   "display_name": "Python 2",
   "language": "python",
   "name": "python2"
  },
  "language_info": {
   "codemirror_mode": {
    "name": "ipython",
    "version": 2
   },
   "file_extension": ".py",
   "mimetype": "text/x-python",
   "name": "python",
   "nbconvert_exporter": "python",
   "pygments_lexer": "ipython2",
   "version": "2.7.11"
  }
 },
 "nbformat": 4,
 "nbformat_minor": 0
}
