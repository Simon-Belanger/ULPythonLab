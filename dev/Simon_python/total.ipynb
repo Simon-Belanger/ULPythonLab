{
 "cells": [
  {
   "cell_type": "code",
   "execution_count": null,
   "metadata": {
    "collapsed": true
   },
   "outputs": [],
   "source": [
    "# Import the required modules\n",
    "from Instruments import *\n",
    "from Algo import *\n",
    "from MRF import RealMRF    \n",
    "\n",
    "# Map the heaters to the different DC sources\n",
    "V1 = Agilent_E3646A('1')\n",
    "V2 = Agilent_E3646A('2')\n",
    "V3 = Keithley_2612B('b')\n",
    "Vall = Keithley_2612B('a')\n",
    "\n",
    "# Create the MRF object and connect to instruments\n",
    "instruments = {'PD': Agilent_81635A(2,2),\n",
    "             'DCsources': [V3, V2, V1],\n",
    "              'limitDC': [16, 10, 16]}\n",
    "mrf = RealMRF(instruments)\n",
    "mrf.connect_instruments()"
   ]
  },
  {
   "cell_type": "code",
   "execution_count": null,
   "metadata": {},
   "outputs": [],
   "source": [
    "mrf.DC_off()\n",
    "tuneMRF(mrf,1513.45) # Coordinates descent"
   ]
  },
  {
   "cell_type": "code",
   "execution_count": null,
   "metadata": {},
   "outputs": [],
   "source": [
    "mrf.PD.set_wavelength(1513.45)\n",
    "NelderMead(mrf,[2.5651, 0.18, 0.71])"
   ]
  },
  {
   "cell_type": "code",
   "execution_count": null,
   "metadata": {
    "scrolled": true
   },
   "outputs": [],
   "source": [
    "mrf.DC_off()\n",
    "#Vall.connect()\n",
    "#Vall.source_voltage(1)\n",
    "mrf.PD.set_wavelength(1513.45)\n",
    "TuneMRF(mrf,[1,1,1]) # Coordinates descent"
   ]
  },
  {
   "cell_type": "code",
   "execution_count": null,
   "metadata": {},
   "outputs": [],
   "source": [
    "# Set V all to 1 V and V1,V2,V3 to half their range\n",
    "Vall.connect()\n",
    "Vall.source_voltage(1)\n",
    "mrf.apply_bias(1,8)\n",
    "mrf.apply_bias(2,8)\n",
    "mrf.apply_bias(3,8)\n",
    "\n",
    "# Find the wavelength where the dip by doing a sweep\n",
    "ag = Agilent_81635A(2,2)\n",
    "ag.connect()\n",
    "ag.sweep(wavelength_start=1515, wavelength_stop=1525, wavelength_step=0.001, plot_sweep=True)\n",
    "\n",
    "#Lower the bias from V_all a little bit\n",
    "Vall.source_voltage(0.95)\n",
    "\n",
    "#Use the algorithm to tune to the same wavelength\n",
    "mrf.DC_off()\n",
    "tuneMRF(mrf, 1520.20)\n",
    "\n",
    "# Plot the final spectrum\n",
    "ag = Agilent_81635A(2,2)\n",
    "ag.connect()\n",
    "ag.sweep(wavelength_start=1515, wavelength_stop=1525, wavelength_step=0.001, plot_sweep=True)"
   ]
  },
  {
   "cell_type": "code",
   "execution_count": null,
   "metadata": {},
   "outputs": [],
   "source": [
    "mrf.DC_off()\n",
    "tuneMRF(mrf, 1515)"
   ]
  },
  {
   "cell_type": "code",
   "execution_count": null,
   "metadata": {},
   "outputs": [],
   "source": [
    "mrf.apply_bias(1,5.33)"
   ]
  },
  {
   "cell_type": "code",
   "execution_count": null,
   "metadata": {},
   "outputs": [],
   "source": [
    "mrf.DC_off()"
   ]
  },
  {
   "cell_type": "code",
   "execution_count": null,
   "metadata": {
    "collapsed": true
   },
   "outputs": [],
   "source": [
    "instruments = {'PD': Agilent_81635A(2,1),\n",
    "             'DCsources': [Agilent_E3646A('1')]}\n",
    "\n",
    "mrf = RealMRF(instruments)\n",
    "#print mrf.num_parameters\n",
    "mrf.connect_instruments()\n",
    "#mrf.apply_bias(3,0)\n",
    "#print mrf.minimize_MRF([0,0])"
   ]
  },
  {
   "cell_type": "code",
   "execution_count": null,
   "metadata": {},
   "outputs": [],
   "source": [
    "mrf.DC_off()\n",
    "mrf.PD.set_wavelength(1515.43)\n",
    "#CoordsDescent(mrf,1) # Coordinates descent\n",
    "NelderMead(mrf,[1.0982, 6.1563, 14.222])"
   ]
  },
  {
   "cell_type": "code",
   "execution_count": 1,
   "metadata": {
    "scrolled": true
   },
   "outputs": [
    {
     "name": "stdout",
     "output_type": "stream",
     "text": [
      "The mainframe is: HP8164A\n",
      "Connected to the laser\n",
      "Total number of datapoints: 1751\n",
      "Stitch number: 1\n",
      "Sweeping from 1545.0 nm to 1580.0 nm\n",
      "Saving file : V=0_000.txt\n",
      "Total number of datapoints: 1751\n",
      "Stitch number: 1\n",
      "Sweeping from 1545.0 nm to 1580.0 nm\n",
      "Saving file : V=0_667.txt\n",
      "Total number of datapoints: 1751\n",
      "Stitch number: 1\n",
      "Sweeping from 1545.0 nm to 1580.0 nm\n",
      "Saving file : V=1_333.txt\n",
      "Total number of datapoints: 1751\n",
      "Stitch number: 1\n",
      "Sweeping from 1545.0 nm to 1580.0 nm\n",
      "Saving file : V=2_000.txt\n",
      "Total number of datapoints: 1751\n",
      "Stitch number: 1\n",
      "Sweeping from 1545.0 nm to 1580.0 nm\n",
      "Saving file : V=2_667.txt\n",
      "Total number of datapoints: 1751\n",
      "Stitch number: 1\n",
      "Sweeping from 1545.0 nm to 1580.0 nm\n",
      "Saving file : V=3_333.txt\n",
      "Total number of datapoints: 1751\n",
      "Stitch number: 1\n",
      "Sweeping from 1545.0 nm to 1580.0 nm\n",
      "Saving file : V=4_000.txt\n",
      "Total number of datapoints: 1751\n",
      "Stitch number: 1\n",
      "Sweeping from 1545.0 nm to 1580.0 nm\n",
      "Saving file : V=4_667.txt\n",
      "Total number of datapoints: 1751\n",
      "Stitch number: 1\n",
      "Sweeping from 1545.0 nm to 1580.0 nm\n",
      "Saving file : V=5_333.txt\n",
      "Total number of datapoints: 1751\n",
      "Stitch number: 1\n",
      "Sweeping from 1545.0 nm to 1580.0 nm\n",
      "Saving file : V=6_000.txt\n",
      "Disconnected from the laser\n"
     ]
    }
   ],
   "source": [
    "from Instruments import *\n",
    "import numpy as np\n",
    "import matplotlib.pyplot as plt\n",
    "import os\n",
    "\n",
    "source = Keithley_2612B('a')\n",
    "#source = Keithley_2612B('b')\n",
    "#source = Agilent_E3646A('1')\n",
    "#source = Agilent_E3646A('2')\n",
    "\n",
    "\n",
    "# Script for a single bias sweep WORKS\n",
    "def sweep_bias_shape(wvl_start=1530, wvl_stop=1565, wvl_step=0.02, DCsource=source, bias_min=0, bias_max=6, bias_points=15, \n",
    "                     dirname = \"\\\\datatest\\\\\"):\n",
    "    \"\"\"\"\"\"\n",
    "    \n",
    "    #  Location to save the data\n",
    "    data_dir = os.getcwd() + dirname\n",
    "\n",
    "    # Initialize the DC source\n",
    "    DCsource.connect()\n",
    "    DCsource.set_range_high()\n",
    "    \n",
    "    # Initialize the laser, connect it and set the sweep params\n",
    "    hp = hp816x_instr.hp816x()\n",
    "    hp.connect('GPIB0::20::INSTR')\n",
    "    hp.sweepUnit = 'dBm'\n",
    "    hp.sweepLaserOutput = 'lowsse' # lowsse ou highpower\n",
    "    hp.sweepStartWvl = wvl_start * 1e-9\n",
    "    hp.sweepStopWvl = wvl_stop * 1e-9\n",
    "    hp.sweepStepWvl = wvl_step * 1e-9\n",
    "    \n",
    "    # Sweep the bias\n",
    "    bias_testpoints = np.linspace(bias_min,bias_max,bias_points).tolist()\n",
    "    for k in bias_testpoints: # For each bias value\n",
    "        DCsource.source_voltage(k)\n",
    "        #time.sleep(0.1)\n",
    "        \n",
    "                \n",
    "        filename = \"V=\" + '{:.3f}'.format(k).replace(\".\",\"_\") + \".txt\"\n",
    "        \n",
    "        # Perform the sweep\n",
    "        wvl_sweep,pow_sweep = hp.sweep()\n",
    "        \n",
    "        # Plot the results\n",
    "        plot_sweep=False\n",
    "        if plot_sweep == True:\n",
    "            \n",
    "            plt.plot(wvl_sweep*1e9,pow_sweep.transpose()[0], label='Detector1')\n",
    "            plt.plot(wvl_sweep*1e9,pow_sweep.transpose()[1], label='Detector2')\n",
    "            plt.xlabel('Wavelength (nm)')\n",
    "            plt.ylabel('Power (dBm)')\n",
    "            plt.legend()\n",
    "            plt.show()\n",
    "        \n",
    "        # Save the results\n",
    "        if not(filename==\"\"):\n",
    "            np.savetxt(data_dir + filename, (wvl_sweep,pow_sweep.transpose()[0],pow_sweep.transpose()[1]))\n",
    "            print(\"Saving file : \" + filename)\n",
    "        # Turn off the laser\n",
    "        hp.setTLSOutput('lowsse', slot=0)\n",
    "        hp.setTLSState('off' , slot=0)\n",
    "        hp.setPWMPowerUnit(2, 0, 'dBm')\n",
    "        hp.setPWMPowerUnit(2, 1, 'dBm')\n",
    "        hp.setPWMPowerRange(2, 0, rangeMode='auto')\n",
    "        hp.setPWMPowerRange(2, 1, rangeMode='auto')\n",
    "    \n",
    "    # Turn DC source Off\n",
    "    DCsource.output_off()\n",
    "    hp.disconnect()\n",
    "    \n",
    "gfg=Agilent_E3646A('1')  \n",
    "gfg.connect()\n",
    "gfg.set_range_high()\n",
    "gfg.source_voltage(16)\n",
    "# Run the sweep\n",
    "#sweep_bias_shape()  \n",
    "import time\n",
    "time.sleep(20)\n",
    "# Script for a single bias sweep WORKS\n",
    "#sweep_bias_shape(wvl_start=1545, wvl_stop=1555, wvl_step=0.001, DCsource=Agilent_E3646A('1'), bias_min=16.84210526, bias_max=19.36842105,\n",
    "                 #bias_points=4, dirname = \"\\\\V1\\\\\")\n",
    "#sweep_bias_shape(wvl_start=1545, wvl_stop=1555, wvl_step=0.001, DCsource=Keithley_2612B('b'), bias_min=0, bias_max=10, bias_points=20, \n",
    "                 #dirname = \"\\\\V2\\\\\")\n",
    "#sweep_bias_shape(wvl_start=1545, wvl_stop=1555, wvl_step=0.001, DCsource=Agilent_E3646A('2'), bias_min=0, bias_max=16, bias_points=20, \n",
    "                 #dirname = \"\\\\V3\\\\\")\n",
    "sweep_bias_shape(wvl_start=1545, wvl_stop=1580, wvl_step=0.02, DCsource=Keithley_2612B('a'), bias_min=0, bias_max=6, bias_points=10, \n",
    "                 dirname = \"\\\\Vall\\\\\")"
   ]
  },
  {
   "cell_type": "code",
   "execution_count": 3,
   "metadata": {},
   "outputs": [],
   "source": [
    "###### Load the sweep data save to file \n",
    "import os\n",
    "import numpy as np\n",
    "import matplotlib.pyplot as plt\n",
    "from matplotlib import cm\n",
    "\n",
    "def load_and_plot(filename,color):\n",
    "    \n",
    "    A,B,C = np.loadtxt(filename, dtype=float)\n",
    "\n",
    "    plt.plot(A*1e9,B, label='Detector1',color=color)\n",
    "    plt.plot(A*1e9,C, label='Detector2',color=color)\n",
    "    plt.xlabel('Wavelength (nm)')\n",
    "    plt.ylabel('Power (dBm)')\n",
    "    \n",
    "def multiplot(directory=\"\\\\V1\\\\\", bias_min=0, bias_max=16, bias_points=20):\n",
    "    \n",
    "    data_dir = os.getcwd() + directory\n",
    "    bias_testpoints = np.linspace(bias_min,bias_max,bias_points).tolist()\n",
    "    cmap = cm.get_cmap('jet')\n",
    "    for k in bias_testpoints: # For each bias value           \n",
    "        filename = \"V=\" + '{:.3f}'.format(k).replace(\".\",\"_\") + \".txt\"\n",
    "        load_and_plot(data_dir + filename,cmap(k/max(bias_testpoints)))\n",
    "    ax = plt.gca()\n",
    "    ax.get_xaxis().get_major_formatter().set_useOffset(False)\n",
    "    plt.show()\n",
    "#f.savefig(data_dir + 'fig.pdf')\n",
    "\n",
    "f1 = plt.figure(1)\n",
    "multiplot(directory=\"\\\\Chip193-20\\\\Vall\\\\\", bias_min=0, bias_max=6, bias_points=10)\n",
    "#f2 = plt.figure(2)\n",
    "#multiplot(directory=\"\\\\V2\\\\\", bias_min=0, bias_max=10, bias_points=20)\n",
    "#f3 = plt.figure(3)\n",
    "#multiplot(directory=\"\\\\V3\\\\\", bias_min=0, bias_max=16, bias_points=20)\n",
    "    "
   ]
  },
  {
   "cell_type": "code",
   "execution_count": null,
   "metadata": {},
   "outputs": [],
   "source": [
    "import Instruments\n",
    "hp = Instruments.hp816x_instr.hp816x()\n",
    "\n",
    "#hp = hp816x()\n",
    "hp.connect('GPIB0::20::INSTR')\n",
    "hp.sweepUnit = 'dBm'\n",
    "hp.sweepLaserOutput = 'lowsse' # lowsse ou highpower\n",
    "hp.setTLSOutput('lowsse', slot=0)\n",
    "hp.setTLSState('off' , slot=0)\n",
    "hp.setPWMPowerUnit(2, 0, 'dBm')\n",
    "hp.setPWMPowerUnit(2, 1, 'dBm')\n",
    "hp.setPWMPowerRange(2, 0, rangeMode='auto')\n",
    "hp.setPWMPowerRange(2, 1, rangeMode='auto')"
   ]
  },
  {
   "cell_type": "code",
   "execution_count": null,
   "metadata": {},
   "outputs": [],
   "source": [
    "def load_and_plot(filename,color):\n",
    "    \n",
    "    A,B,C = np.loadtxt(filename, dtype=float)\n",
    "\n",
    "    plt.plot(A*1e9,B, label='Detector1',color=color)\n",
    "    plt.plot(A*1e9,C, label='Detector2',color=color)\n",
    "    plt.xlabel('Wavelength (nm)')\n",
    "    plt.ylabel('Power (dBm)')\n",
    "    \n",
    "data_dir = os.getcwd() + \"\\\\\"\n",
    "load_and_plot(data_dir + \"align32_1.txt\",\"r\")\n",
    "load_and_plot(data_dir + \"align32_2.txt\",\"k\")\n",
    "load_and_plot(data_dir + \"align34_1.txt\",\"r\")\n",
    "load_and_plot(data_dir + \"align34_2.txt\",\"k\")\n",
    "load_and_plot(data_dir + \"align34_3.txt\",\"b\")\n",
    "plt.show()"
   ]
  },
  {
   "cell_type": "code",
   "execution_count": null,
   "metadata": {
    "collapsed": true
   },
   "outputs": [],
   "source": [
    "def load_and_plot(filename,color):\n",
    "    \n",
    "    A,B,C = np.loadtxt(filename, dtype=float)\n",
    "\n",
    "    plt.plot(A*1e9,B, label='Detector1',color=color)\n",
    "    plt.plot(A*1e9,C, label='Detector2',color=color)\n",
    "    plt.xlabel('Wavelength (nm)')\n",
    "    plt.ylabel('Power (dBm)')\n",
    "    \n",
    "data_dir = os.getcwd() + \"\\\\\"\n",
    "load_and_plot(data_dir + \"align34_1.txt\",\"r\")\n",
    "load_and_plot(data_dir + \"align34_2.txt\",\"k\")\n",
    "load_and_plot(data_dir + \"align34_3.txt\",\"b\")\n",
    "plt.show()"
   ]
  },
  {
   "cell_type": "code",
   "execution_count": null,
   "metadata": {},
   "outputs": [],
   "source": [
    "# Plot the response and substract the IO response\n",
    "import os\n",
    "import matplotlib.pyplot as plt\n",
    "import numpy as np\n",
    "\n",
    "# Grating couplers\n",
    "A34,B34,C34 = np.loadtxt(\"align34_2.txt\", dtype=float)\n",
    "A32,B32,C32 = np.loadtxt(\"align32_2.txt\", dtype=float)\n",
    "\n",
    "\n",
    "def load_and_plot(filename,color):\n",
    "    \n",
    "    A,B,C = np.loadtxt(filename, dtype=float)\n",
    "\n",
    "    plt.plot(A*1e9,B-B34, label='Detector1',color=color)\n",
    "    plt.plot(A*1e9,C-C32, label='Detector2',color=color)\n",
    "    plt.xlabel('Wavelength (nm)')\n",
    "    plt.ylabel('Power (dBm)')\n",
    "    \n",
    "data_dir = os.getcwd() + \"\\\\chip193-20\\\\\"\n",
    "load_and_plot(data_dir + \"R3_V1_fine.txt\",\"b\")\n",
    "plt.show()"
   ]
  },
  {
   "cell_type": "code",
   "execution_count": null,
   "metadata": {},
   "outputs": [],
   "source": []
  },
  {
   "cell_type": "code",
   "execution_count": null,
   "metadata": {},
   "outputs": [],
   "source": [
    "np.linspace(0,16,20)"
   ]
  },
  {
   "cell_type": "code",
   "execution_count": null,
   "metadata": {},
   "outputs": [],
   "source": [
    "np.linspace(16.84210526,19.36842105,4)"
   ]
  },
  {
   "cell_type": "code",
   "execution_count": null,
   "metadata": {
    "collapsed": true
   },
   "outputs": [],
   "source": []
  }
 ],
 "metadata": {
  "kernelspec": {
   "display_name": "Python 3",
   "language": "python",
   "name": "python3"
  },
  "language_info": {
   "codemirror_mode": {
    "name": "ipython",
    "version": 3
   },
   "file_extension": ".py",
   "mimetype": "text/x-python",
   "name": "python",
   "nbconvert_exporter": "python",
   "pygments_lexer": "ipython3",
   "version": "3.6.5"
  }
 },
 "nbformat": 4,
 "nbformat_minor": 1
}
