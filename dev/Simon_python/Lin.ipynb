{
 "cells": [
  {
   "cell_type": "code",
   "execution_count": 1,
   "metadata": {},
   "outputs": [
    {
     "ename": "ModuleNotFoundError",
     "evalue": "No module named 'Instrument_pyvisa'",
     "output_type": "error",
     "traceback": [
      "\u001b[1;31m---------------------------------------------------------------------------\u001b[0m",
      "\u001b[1;31mModuleNotFoundError\u001b[0m                       Traceback (most recent call last)",
      "\u001b[1;32m<ipython-input-1-06ee66cf3c51>\u001b[0m in \u001b[0;36m<module>\u001b[1;34m()\u001b[0m\n\u001b[1;32m----> 1\u001b[1;33m \u001b[1;32mfrom\u001b[0m \u001b[0mInstruments\u001b[0m \u001b[1;32mimport\u001b[0m \u001b[1;33m*\u001b[0m\u001b[1;33m\u001b[0m\u001b[0m\n\u001b[0m\u001b[0;32m      2\u001b[0m \u001b[1;32mimport\u001b[0m \u001b[0mnumpy\u001b[0m \u001b[1;32mas\u001b[0m \u001b[0mnp\u001b[0m\u001b[1;33m\u001b[0m\u001b[0m\n\u001b[0;32m      3\u001b[0m \u001b[1;32mimport\u001b[0m \u001b[0mmatplotlib\u001b[0m\u001b[1;33m.\u001b[0m\u001b[0mpyplot\u001b[0m \u001b[1;32mas\u001b[0m \u001b[0mplt\u001b[0m\u001b[1;33m\u001b[0m\u001b[0m\n\u001b[0;32m      4\u001b[0m \u001b[1;33m\u001b[0m\u001b[0m\n\u001b[0;32m      5\u001b[0m \u001b[1;33m\u001b[0m\u001b[0m\n",
      "\u001b[1;32m~\\Documents\\Simon_python\\Instruments\\__init__.py\u001b[0m in \u001b[0;36m<module>\u001b[1;34m()\u001b[0m\n\u001b[0;32m      7\u001b[0m \u001b[1;33m\u001b[0m\u001b[0m\n\u001b[0;32m      8\u001b[0m \u001b[1;31m# directly import classes from modules\u001b[0m\u001b[1;33m\u001b[0m\u001b[1;33m\u001b[0m\u001b[0m\n\u001b[1;32m----> 9\u001b[1;33m \u001b[1;32mfrom\u001b[0m \u001b[0mInstruments\u001b[0m\u001b[1;33m.\u001b[0m\u001b[0mAgilent_81635A\u001b[0m \u001b[1;32mimport\u001b[0m \u001b[0mAgilent_81635A\u001b[0m\u001b[1;33m\u001b[0m\u001b[0m\n\u001b[0m\u001b[0;32m     10\u001b[0m \u001b[1;32mfrom\u001b[0m \u001b[0mInstruments\u001b[0m\u001b[1;33m.\u001b[0m\u001b[0mAgilent_E3646A\u001b[0m \u001b[1;32mimport\u001b[0m \u001b[0mAgilent_E3646A\u001b[0m\u001b[1;33m\u001b[0m\u001b[0m\n\u001b[0;32m     11\u001b[0m \u001b[1;32mfrom\u001b[0m \u001b[0mInstruments\u001b[0m\u001b[1;33m.\u001b[0m\u001b[0mhp816x_instr\u001b[0m \u001b[1;32mimport\u001b[0m \u001b[0mhp816x\u001b[0m\u001b[1;33m\u001b[0m\u001b[0m\n",
      "\u001b[1;32m~\\Documents\\Simon_python\\Instruments\\Agilent_81635A.py\u001b[0m in \u001b[0;36m<module>\u001b[1;34m()\u001b[0m\n\u001b[0;32m      1\u001b[0m \u001b[1;32mimport\u001b[0m \u001b[0mnumpy\u001b[0m \u001b[1;32mas\u001b[0m \u001b[0mnp\u001b[0m\u001b[1;33m\u001b[0m\u001b[0m\n\u001b[0;32m      2\u001b[0m \u001b[1;32mimport\u001b[0m \u001b[0mmatplotlib\u001b[0m\u001b[1;33m.\u001b[0m\u001b[0mpyplot\u001b[0m \u001b[1;32mas\u001b[0m \u001b[0mplt\u001b[0m\u001b[1;33m\u001b[0m\u001b[0m\n\u001b[1;32m----> 3\u001b[1;33m \u001b[1;32mfrom\u001b[0m \u001b[0mInstrument_pyvisa\u001b[0m \u001b[1;32mimport\u001b[0m \u001b[0mInstrument_pyvisa\u001b[0m\u001b[1;33m\u001b[0m\u001b[0m\n\u001b[0m\u001b[0;32m      4\u001b[0m \u001b[1;32mfrom\u001b[0m \u001b[0mhp816x_instr\u001b[0m \u001b[1;32mimport\u001b[0m \u001b[0mhp816x\u001b[0m\u001b[1;33m\u001b[0m\u001b[0m\n\u001b[0;32m      5\u001b[0m \u001b[1;33m\u001b[0m\u001b[0m\n",
      "\u001b[1;31mModuleNotFoundError\u001b[0m: No module named 'Instrument_pyvisa'"
     ]
    }
   ],
   "source": [
    "from Instruments import *\n",
    "import numpy as np\n",
    "import matplotlib.pyplot as plt\n",
    "\n",
    "\n",
    "# DC source\n",
    "mysource = Keithley_2612B('a')\n",
    "mysource.connect()\n",
    "mysource.source_voltage(5)\n",
    "mysource.output_off()"
   ]
  },
  {
   "cell_type": "code",
   "execution_count": 14,
   "metadata": {
    "collapsed": true
   },
   "outputs": [],
   "source": [
    "# Laser\n",
    "\n",
    "mylaser = Agilent_81635A('2','2')\n",
    "mylaser.connect()\n",
    "\n",
    "mylaser.set_wavelength(1550)\n",
    "mylaser.laser_on()\n",
    "#mylaser.laser_off()"
   ]
  },
  {
   "cell_type": "code",
   "execution_count": 38,
   "metadata": {
    "collapsed": true
   },
   "outputs": [],
   "source": [
    "w=0\n",
    "k=1520+w*0.08\n",
    "mylaser.set_wavelength(1530)\n",
    "a=mylaser.measure_power()"
   ]
  },
  {
   "cell_type": "code",
   "execution_count": 28,
   "metadata": {},
   "outputs": [
    {
     "name": "stdout",
     "output_type": "stream",
     "text": [
      "-43.11674\n",
      "1520.0\n"
     ]
    }
   ],
   "source": [
    "print(a)\n",
    "print(k)"
   ]
  },
  {
   "cell_type": "code",
   "execution_count": 6,
   "metadata": {
    "collapsed": true
   },
   "outputs": [],
   "source": [
    "mysource.output_off()"
   ]
  },
  {
   "cell_type": "code",
   "execution_count": 8,
   "metadata": {
    "collapsed": true
   },
   "outputs": [],
   "source": [
    "mylaser.laser_off()"
   ]
  },
  {
   "cell_type": "code",
   "execution_count": 32,
   "metadata": {},
   "outputs": [],
   "source": [
    "import numpy as np\n",
    "import time\n",
    "\n",
    "\n",
    "x = np.empty([800,10])\n",
    "mysource.source_voltage(5)\n",
    "mysource.output_on()\n",
    "for n in range(10):\n",
    "    mysource.output_on()\n",
    "    for v in range(800):\n",
    "        mysource.source_voltage(v*0.08+5)\n",
    "        time.sleep(0.01)\n",
    "        x[v,n]=mylaser.measure_power()\n",
    "    mysource.source_voltage(5)\n",
    "    mysource.output_off()\n",
    "    time.sleep(10)\n",
    "\n",
    "np.savetxt('20181007_3_MZI_spectrum_sample_detV_008_sleeptime_001_4K_ohm.txt', x)"
   ]
  },
  {
   "cell_type": "code",
   "execution_count": 33,
   "metadata": {},
   "outputs": [],
   "source": [
    "import numpy as np\n",
    "import matplotlib.pyplot as plt\n",
    "Vin = np.linspace(0,799,800)\n",
    "Vin=Vin*0.1+5\n",
    "plt.plot(Vin, x) # blue is 1, yellow is 2\n",
    "plt.show()\n",
    "\n",
    "#np.savetxt('20181005_MZI_Wavelength_1580_sleeptime_0008.txt', x)"
   ]
  },
  {
   "cell_type": "code",
   "execution_count": null,
   "metadata": {
    "collapsed": true
   },
   "outputs": [],
   "source": [
    "mysource.source_voltage(5)"
   ]
  },
  {
   "cell_type": "code",
   "execution_count": 31,
   "metadata": {},
   "outputs": [],
   "source": [
    "import numpy as np\n",
    "import time\n",
    "\n",
    "x = np.empty([3200,3])\n",
    "mysource.source_voltage(5)\n",
    "#mysource.output_on()\n",
    "mylaser.set_wavelength(1540)\n",
    "for w in range(3):\n",
    "    mylaser.set_wavelength(1540+w*10)\n",
    "    time.sleep(10)\n",
    "    mysource.output_on()\n",
    "    for v in range(3200):\n",
    "        mysource.source_voltage(v*0.02+5)\n",
    "        time.sleep(0.01)\n",
    "        x[v,w]=mylaser.measure_power()   \n",
    "    mysource.source_voltage(5)\n",
    "    mysource.output_off()\n",
    "np.savetxt('20181007_3_2_MZI_single_wavelength__1540_1560_N_3200_stime_001_4K_ohm.txt', x)\n",
    "mysource.output_off()\n",
    "\n"
   ]
  },
  {
   "cell_type": "code",
   "execution_count": null,
   "metadata": {},
   "outputs": [],
   "source": [
    "import numpy as np\n",
    "import time\n",
    "\n",
    "x = np.empty([1000,1])\n",
    "mysource.source_voltage(5)\n",
    "#mysource.output_on()\n",
    "mylaser.set_wavelength(1520)\n",
    "for w in range(1000):\n",
    "    mylaser.set_wavelength(1520+w*0.08)\n",
    "    time.sleep(0.1)\n",
    "    x[w]=mylaser.measure_power()\n"
   ]
  },
  {
   "cell_type": "code",
   "execution_count": 30,
   "metadata": {
    "collapsed": true
   },
   "outputs": [],
   "source": [
    "import numpy as np\n",
    "import matplotlib.pyplot as plt\n",
    "Vin = np.linspace(0,3199,3200)\n",
    "Vin=Vin*0.02+5\n",
    "plt.plot(Vin, x) # blue is 1, yellow is 2\n",
    "plt.show()"
   ]
  },
  {
   "cell_type": "code",
   "execution_count": null,
   "metadata": {
    "collapsed": true
   },
   "outputs": [],
   "source": []
  }
 ],
 "metadata": {
  "kernelspec": {
   "display_name": "Python 3",
   "language": "python",
   "name": "python3"
  },
  "language_info": {
   "codemirror_mode": {
    "name": "ipython",
    "version": 3
   },
   "file_extension": ".py",
   "mimetype": "text/x-python",
   "name": "python",
   "nbconvert_exporter": "python",
   "pygments_lexer": "ipython3",
   "version": "3.6.5"
  }
 },
 "nbformat": 4,
 "nbformat_minor": 1
}
