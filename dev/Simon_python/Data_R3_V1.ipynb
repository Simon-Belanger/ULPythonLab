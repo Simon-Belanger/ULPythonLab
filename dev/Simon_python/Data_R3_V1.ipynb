{
 "cells": [
  {
   "cell_type": "markdown",
   "metadata": {},
   "source": [
    "Marques d'alignement"
   ]
  },
  {
   "cell_type": "code",
   "execution_count": 5,
   "metadata": {
    "collapsed": false
   },
   "outputs": [],
   "source": [
    "import os\n",
    "import matplotlib.pyplot as plt\n",
    "import numpy as np\n",
    "\n",
    "def load_and_plot(filename,color):\n",
    "    \n",
    "    A,B,C = np.loadtxt(filename, dtype=float)\n",
    "\n",
    "    plt.plot(A*1e9,B, label='Detector1',color=color)\n",
    "    plt.plot(A*1e9,C, label='Detector2',color=color)\n",
    "    plt.xlabel('Wavelength (nm)')\n",
    "    plt.ylabel('Power (dBm)')\n",
    "    \n",
    "data_dir = os.getcwd() + \"\\\\Chip193-20\\\\\"\n",
    "f1=plt.figure()\n",
    "load_and_plot(data_dir + \"\\\\align1\\\\\" + \"det1_calib_1545_1555_001.txt\",\"b\")\n",
    "load_and_plot(data_dir + \"\\\\align2\\\\\" + \"det1_calib_1545_1555_001.txt\",\"r\")\n",
    "plt.show()\n",
    "f2=plt.figure()\n",
    "load_and_plot(data_dir + \"\\\\align1\\\\\" + \"det2_calib_1545_1555_001.txt\",\"b\")\n",
    "load_and_plot(data_dir + \"\\\\align2\\\\\" + \"det2_calib_1545_1555_001.txt\",\"r\")\n",
    "plt.show()\n",
    "f3=plt.figure()\n",
    "load_and_plot(data_dir + \"\\\\align1\\\\\" + \"det1_calib_1545_1580_02.txt\",\"b\")\n",
    "load_and_plot(data_dir + \"\\\\align2\\\\\" + \"det1_calib_1545_1580_02.txt\",\"r\")\n",
    "plt.show()\n",
    "f4=plt.figure()\n",
    "load_and_plot(data_dir + \"\\\\align1\\\\\" + \"det2_calib_1545_1580_02.txt\",\"b\")\n",
    "load_and_plot(data_dir + \"\\\\align2\\\\\" + \"det2_calib_1545_1580_02.txt\",\"r\")\n",
    "plt.show()"
   ]
  },
  {
   "cell_type": "code",
   "execution_count": null,
   "metadata": {
    "collapsed": true
   },
   "outputs": [],
   "source": []
  }
 ],
 "metadata": {
  "kernelspec": {
   "display_name": "Python 2",
   "language": "python",
   "name": "python2"
  },
  "language_info": {
   "codemirror_mode": {
    "name": "ipython",
    "version": 2
   },
   "file_extension": ".py",
   "mimetype": "text/x-python",
   "name": "python",
   "nbconvert_exporter": "python",
   "pygments_lexer": "ipython2",
   "version": "2.7.11"
  }
 },
 "nbformat": 4,
 "nbformat_minor": 0
}
