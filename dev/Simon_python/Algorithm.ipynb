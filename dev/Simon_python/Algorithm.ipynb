{
 "cells": [
  {
   "cell_type": "markdown",
   "metadata": {},
   "source": [
    "# Microring filter algorithm for tuning/stabilisation"
   ]
  },
  {
   "cell_type": "markdown",
   "metadata": {},
   "source": [
    "We define a MRF class which will produce microring filters objects. These objects behave just like microring filters, and it is possible to apply bias values to tune them. "
   ]
  },
  {
   "cell_type": "code",
   "execution_count": 185,
   "metadata": {
    "collapsed": true
   },
   "outputs": [],
   "source": [
    "import numpy as np\n",
    "from scipy.optimize import minimize\n",
    "\n",
    "# Microring filter object\n",
    "class MRF(object):\n",
    "    \"\"\"Microring filter object\"\"\"\n",
    "    \n",
    "    # amplitude of the phase misadjustment.\n",
    "    var_phase = np.pi/8\n",
    "    \n",
    "    def __init__(self, number_rings):\n",
    "        self.number_rings = number_rings\n",
    "        self.applied_bias = [0.] * number_rings\n",
    "        self.phase = np.squeeze((-np.pi/8 + (np.pi/8-(-np.pi/8)) * np.random.random_sample((1, 5))).tolist())\n",
    "        \n",
    "    def apply_bias(self,ring_number,bias_value):\n",
    "        \"\"\"Set the bias for the ring #[ring_number] at [bias_value]\"\"\"\n",
    "        self.applied_bias[ring_number-1] = bias_value\n",
    "        \n",
    "    def measure_power(self):\n",
    "        \"\"\"Return a scalar which is a function of applied_bias and phase\"\"\"\n",
    "        return 1-np.linalg.norm(self.applied_bias-self.phase)\n",
    "    \n",
    "    def test_MRF(self,bias_list):\n",
    "        \"\"\"Return the measured power for a given set of bias list\"\"\"\n",
    "        for i in range(0,self.number_rings):\n",
    "            self.apply_bias(i+1,bias_list[i])\n",
    "        return self.measure_power()\n",
    "    \n",
    "    def minimize_MRF(self,bias_list):\n",
    "        \"\"\"Minimization optimisation function for the MRF object\"\"\"\n",
    "        return -1 * self.test_MRF(bias_list)"
   ]
  },
  {
   "cell_type": "markdown",
   "metadata": {},
   "source": [
    "This section of code contains the algorithm to tune the microring filter."
   ]
  },
  {
   "cell_type": "code",
   "execution_count": 186,
   "metadata": {
    "collapsed": true
   },
   "outputs": [],
   "source": [
    "# Coordinates descent Algorithm \n",
    "def CoordsDescent(MRF,number_iter):\n",
    "    \"\"\"Coarse tuning of a MRF object using the coordinates descent algorithm.\"\"\"\n",
    "    \n",
    "    # Possible bias values\n",
    "    bias_min = -np.pi/8\n",
    "    bias_max = np.pi/8\n",
    "    bias_points = 100\n",
    "    bias_testpoints = np.linspace(bias_min,bias_max,bias_points).tolist()\n",
    "    \n",
    "    for i in range(1,number_iter+1): # For each iteration\n",
    "        for j in range(0,MRF.number_rings): # For each ring\n",
    "            power_list = []\n",
    "            for k in bias_testpoints: # For each bias value\n",
    "                MRF.apply_bias(j,k)\n",
    "                power_list.append(MRF.measure_power())\n",
    "            MRF.apply_bias(j,bias_testpoints[power_list.index(max(power_list))])\n",
    "\n",
    "# Nelder Mead simplex algorithm\n",
    "def NelderMead(MRF):\n",
    "    \"\"\"Fine tuning of a MRF object using the Nelder Mead simplex algorithm\"\"\"\n",
    "    \n",
    "    x0 = MRF.applied_bias\n",
    "    res = minimize(MRF.minimize_MRF, x0, method='Nelder-Mead', tol=1e-6, options={'disp': True})\n",
    "    return res.x\n",
    "\n",
    "def tuneMRF(MRF):\n",
    "    \"\"\"Tune/stabilise the MRF object using coarse + fine algorithms\"\"\"\n",
    "    \n",
    "    CoordsDescent(MRF,2) # Coordinates descent\n",
    "    NelderMead(MRF) # Nelder Mead"
   ]
  },
  {
   "cell_type": "markdown",
   "metadata": {},
   "source": [
    "This last section is an example to show how the code works and how it reaches the value."
   ]
  },
  {
   "cell_type": "code",
   "execution_count": 187,
   "metadata": {},
   "outputs": [
    {
     "name": "stdout",
     "output_type": "stream",
     "text": [
      "[ 0.03620423  0.02940442  0.33332936 -0.08134395  0.14772456]\n",
      "[0.0, 0.0, 0.0, 0.0, 0.0]\n",
      "0.623538567999\n",
      "Optimization terminated successfully.\n",
      "         Current function value: -0.999999\n",
      "         Iterations: 118\n",
      "         Function evaluations: 200\n",
      "[ 0.03620423  0.02940442  0.33332936 -0.08134395  0.14772456]\n",
      "[0.036204553941050974, 0.029404462799956059, 0.33332950827003949, -0.081344319237629914, 0.14772425124680647]\n",
      "0.999999398638\n"
     ]
    }
   ],
   "source": [
    "myfil = MRF(5)\n",
    "print myfil.phase\n",
    "print myfil.applied_bias\n",
    "print myfil.measure_power()\n",
    "tuneMRF(myfil)\n",
    "print myfil.phase\n",
    "print myfil.applied_bias\n",
    "print myfil.measure_power()"
   ]
  }
 ],
 "metadata": {
  "kernelspec": {
   "display_name": "Python 3",
   "language": "python",
   "name": "python3"
  },
  "language_info": {
   "codemirror_mode": {
    "name": "ipython",
    "version": 3
   },
   "file_extension": ".py",
   "mimetype": "text/x-python",
   "name": "python",
   "nbconvert_exporter": "python",
   "pygments_lexer": "ipython3",
   "version": "3.6.5"
  }
 },
 "nbformat": 4,
 "nbformat_minor": 1
}
