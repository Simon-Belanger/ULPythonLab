{
 "cells": [
  {
   "cell_type": "markdown",
   "metadata": {},
   "source": [
    "# Wavelength Sweep Template Notebook\n",
    "\n",
    "This Jupyter notebook contains the code used to perform a wavelength sweep using the agilent Tunable Laser Source (TLS). You can use this template and copy/paste it's content in your own notebook in order to perform sweeps.\n",
    "\n",
    "Author: Simon Belanger-de Villers\n",
    "Date: November 5th 2019"
   ]
  },
  {
   "cell_type": "code",
   "execution_count": null,
   "metadata": {},
   "outputs": [],
   "source": [
    "from Instruments import hp816x_instr\n",
    "from data.sweepobj import sweepobj\n",
    "from data.wvlsweep import wvlsweep\n",
    "import os\n",
    "%matplotlib inline\n",
    "\n",
    "data_dir = os.getcwd() + \"\\\\...\\\\\"\n",
    "LMS = hp816x_instr.hp816x()\n",
    "LMS.connect('GPIB0::20::INSTR')\n",
    "print(\"Saving wavelength sweep to \" + data_dir + \" ...\")\n",
    "wvlsweep(LMS, data_dir, wvl_start=1530e-9, wvl_stop=1570e-9, wvl_step=0.01e-9, plot_det1 = True, plot_det2 = True, filename=\"test\")\n",
    "LMS.setTLSState(\"off\")"
   ]
  }
 ],
 "metadata": {
  "kernelspec": {
   "display_name": "Python 3",
   "language": "python",
   "name": "python3"
  },
  "language_info": {
   "codemirror_mode": {
    "name": "ipython",
    "version": 3
   },
   "file_extension": ".py",
   "mimetype": "text/x-python",
   "name": "python",
   "nbconvert_exporter": "python",
   "pygments_lexer": "ipython3",
   "version": "3.6.5"
  }
 },
 "nbformat": 4,
 "nbformat_minor": 1
}
